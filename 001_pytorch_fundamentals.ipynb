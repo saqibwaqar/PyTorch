{
  "nbformat": 4,
  "nbformat_minor": 0,
  "metadata": {
    "colab": {
      "provenance": [],
      "gpuType": "T4"
    },
    "kernelspec": {
      "name": "python3",
      "display_name": "Python 3"
    },
    "language_info": {
      "name": "python"
    },
    "accelerator": "GPU"
  },
  "cells": [
    {
      "cell_type": "code",
      "execution_count": null,
      "metadata": {
        "id": "HOxKZSf7BK8y"
      },
      "outputs": [],
      "source": [
        "import torch\n",
        "import numpy as np\n",
        "import pandas as pd\n",
        "import matplotlib.pyplot as plt\n"
      ]
    },
    {
      "cell_type": "code",
      "source": [
        "MATRIX = torch.tensor([[1, 4, 5], [3, 4, 6]])\n",
        "MATRIX"
      ],
      "metadata": {
        "id": "4PFXgyUTBmOp",
        "outputId": "ce9d6630-cc32-4cf0-d7cf-e4c1d4bd104b",
        "colab": {
          "base_uri": "https://localhost:8080/"
        }
      },
      "execution_count": null,
      "outputs": [
        {
          "output_type": "execute_result",
          "data": {
            "text/plain": [
              "tensor([[1, 4, 5],\n",
              "        [3, 4, 6]])"
            ]
          },
          "metadata": {},
          "execution_count": 2
        }
      ]
    },
    {
      "cell_type": "code",
      "source": [
        "MATRIX.ndim"
      ],
      "metadata": {
        "id": "e2Cd09drB2mf",
        "outputId": "26104620-3169-4bed-9f4a-c432de687667",
        "colab": {
          "base_uri": "https://localhost:8080/"
        }
      },
      "execution_count": null,
      "outputs": [
        {
          "output_type": "execute_result",
          "data": {
            "text/plain": [
              "2"
            ]
          },
          "metadata": {},
          "execution_count": 3
        }
      ]
    },
    {
      "cell_type": "code",
      "source": [
        "MATRIX.shape"
      ],
      "metadata": {
        "id": "e7V-yBDJB5mT",
        "outputId": "a435ed01-b947-41f0-91ce-966100c0580f",
        "colab": {
          "base_uri": "https://localhost:8080/"
        }
      },
      "execution_count": null,
      "outputs": [
        {
          "output_type": "execute_result",
          "data": {
            "text/plain": [
              "torch.Size([2, 3])"
            ]
          },
          "metadata": {},
          "execution_count": 4
        }
      ]
    },
    {
      "cell_type": "code",
      "source": [
        "TENSOR = torch.tensor([[[1, 3, 2, 1], [2, 4, 6, 7], [2, 3, 5, 6], [3, 4, 5, 6]]])\n",
        "TENSOR"
      ],
      "metadata": {
        "id": "3x2xmxDLCeVP",
        "outputId": "3e3da867-5830-4bc6-84ff-0029be0ffc2a",
        "colab": {
          "base_uri": "https://localhost:8080/"
        }
      },
      "execution_count": null,
      "outputs": [
        {
          "output_type": "execute_result",
          "data": {
            "text/plain": [
              "tensor([[[1, 3, 2, 1],\n",
              "         [2, 4, 6, 7],\n",
              "         [2, 3, 5, 6],\n",
              "         [3, 4, 5, 6]]])"
            ]
          },
          "metadata": {},
          "execution_count": 5
        }
      ]
    },
    {
      "cell_type": "code",
      "source": [
        "TENSOR.ndim\n"
      ],
      "metadata": {
        "id": "JbJBwyOnCvou",
        "outputId": "c51bb673-2841-4a28-b771-54085b3b727b",
        "colab": {
          "base_uri": "https://localhost:8080/"
        }
      },
      "execution_count": null,
      "outputs": [
        {
          "output_type": "execute_result",
          "data": {
            "text/plain": [
              "3"
            ]
          },
          "metadata": {},
          "execution_count": 6
        }
      ]
    },
    {
      "cell_type": "code",
      "source": [
        "TENSOR.shape"
      ],
      "metadata": {
        "id": "pcmi3ZIrCy2M",
        "outputId": "5edd36e6-03f3-4650-e97e-4554d5c28778",
        "colab": {
          "base_uri": "https://localhost:8080/"
        }
      },
      "execution_count": null,
      "outputs": [
        {
          "output_type": "execute_result",
          "data": {
            "text/plain": [
              "torch.Size([1, 4, 4])"
            ]
          },
          "metadata": {},
          "execution_count": 7
        }
      ]
    },
    {
      "cell_type": "code",
      "source": [
        "TENSOR[0][0]"
      ],
      "metadata": {
        "id": "kIpq2WQvDDA0",
        "outputId": "97bce2e1-4b6a-442d-977a-b0a7ee3740bf",
        "colab": {
          "base_uri": "https://localhost:8080/"
        }
      },
      "execution_count": null,
      "outputs": [
        {
          "output_type": "execute_result",
          "data": {
            "text/plain": [
              "tensor([1, 3, 2, 1])"
            ]
          },
          "metadata": {},
          "execution_count": 8
        }
      ]
    },
    {
      "cell_type": "code",
      "source": [
        "rand_tensor = torch.rand(size=(3, 4))\n",
        "rand_tensor"
      ],
      "metadata": {
        "id": "h7sLBiyt5Eg4",
        "outputId": "5abc11a8-d122-4055-89b9-f94a16e2f548",
        "colab": {
          "base_uri": "https://localhost:8080/"
        }
      },
      "execution_count": null,
      "outputs": [
        {
          "output_type": "execute_result",
          "data": {
            "text/plain": [
              "tensor([[0.8796, 0.9087, 0.3683, 0.6154],\n",
              "        [0.6865, 0.1355, 0.5970, 0.3208],\n",
              "        [0.4681, 0.3659, 0.7660, 0.3311]])"
            ]
          },
          "metadata": {},
          "execution_count": 9
        }
      ]
    },
    {
      "cell_type": "code",
      "source": [
        "zeros = torch.zeros(size=(3, 4))\n",
        "zeros"
      ],
      "metadata": {
        "id": "l3PCznRc5f3I",
        "outputId": "1ee983da-a335-49b8-acc9-c82c434afe6a",
        "colab": {
          "base_uri": "https://localhost:8080/"
        }
      },
      "execution_count": null,
      "outputs": [
        {
          "output_type": "execute_result",
          "data": {
            "text/plain": [
              "tensor([[0., 0., 0., 0.],\n",
              "        [0., 0., 0., 0.],\n",
              "        [0., 0., 0., 0.]])"
            ]
          },
          "metadata": {},
          "execution_count": 10
        }
      ]
    },
    {
      "cell_type": "code",
      "source": [
        "zeros.dtype"
      ],
      "metadata": {
        "id": "G0phh2BQ5qc1",
        "outputId": "848f45f1-8a1a-4c53-ef35-8a0718304d8c",
        "colab": {
          "base_uri": "https://localhost:8080/"
        }
      },
      "execution_count": null,
      "outputs": [
        {
          "output_type": "execute_result",
          "data": {
            "text/plain": [
              "torch.float32"
            ]
          },
          "metadata": {},
          "execution_count": 11
        }
      ]
    },
    {
      "cell_type": "code",
      "source": [
        "rand_tensor.dtype"
      ],
      "metadata": {
        "id": "QjrZYfGL53D0",
        "outputId": "58ecc8cb-25e6-49ed-a2fb-bf6e4aa2dce2",
        "colab": {
          "base_uri": "https://localhost:8080/"
        }
      },
      "execution_count": null,
      "outputs": [
        {
          "output_type": "execute_result",
          "data": {
            "text/plain": [
              "torch.float32"
            ]
          },
          "metadata": {},
          "execution_count": 12
        }
      ]
    },
    {
      "cell_type": "code",
      "source": [
        "ones = torch.ones(size=(3,4))\n",
        "ones"
      ],
      "metadata": {
        "id": "_VkJdghC59GN",
        "outputId": "a60b8c29-f38d-44b9-ff16-4fd8fb5d296f",
        "colab": {
          "base_uri": "https://localhost:8080/"
        }
      },
      "execution_count": null,
      "outputs": [
        {
          "output_type": "execute_result",
          "data": {
            "text/plain": [
              "tensor([[1., 1., 1., 1.],\n",
              "        [1., 1., 1., 1.],\n",
              "        [1., 1., 1., 1.]])"
            ]
          },
          "metadata": {},
          "execution_count": 13
        }
      ]
    },
    {
      "cell_type": "markdown",
      "source": [
        "Using arange and tensor_like in Pytorch"
      ],
      "metadata": {
        "id": "Zv0ebedv7ieq"
      }
    },
    {
      "cell_type": "code",
      "source": [
        "# Using arange function\n",
        "zero_to_nine = torch.arange(0, 10)\n",
        "zero_to_nine"
      ],
      "metadata": {
        "id": "zSel72dh7twS",
        "outputId": "b0348cc6-6022-472e-9fc1-54589507bd1b",
        "colab": {
          "base_uri": "https://localhost:8080/"
        }
      },
      "execution_count": null,
      "outputs": [
        {
          "output_type": "execute_result",
          "data": {
            "text/plain": [
              "tensor([0, 1, 2, 3, 4, 5, 6, 7, 8, 9])"
            ]
          },
          "metadata": {},
          "execution_count": 14
        }
      ]
    },
    {
      "cell_type": "code",
      "source": [
        "one_to_ten = torch.arange(start=1, end= 11, step=1)\n",
        "one_to_ten"
      ],
      "metadata": {
        "id": "YBnbO4qN8FIJ",
        "outputId": "3a9692e0-3658-4ad3-c5ab-7c57325c303c",
        "colab": {
          "base_uri": "https://localhost:8080/"
        }
      },
      "execution_count": null,
      "outputs": [
        {
          "output_type": "execute_result",
          "data": {
            "text/plain": [
              "tensor([ 1,  2,  3,  4,  5,  6,  7,  8,  9, 10])"
            ]
          },
          "metadata": {},
          "execution_count": 15
        }
      ]
    },
    {
      "cell_type": "code",
      "source": [
        "# Creating zeroes like tensor\n",
        "zeroes_like = torch.zeros_like(input = one_to_ten)\n",
        "zeroes_like"
      ],
      "metadata": {
        "id": "htxSYgeM8zDQ",
        "outputId": "13df40f5-60cb-4e32-ae84-828cd11ddcd3",
        "colab": {
          "base_uri": "https://localhost:8080/"
        }
      },
      "execution_count": null,
      "outputs": [
        {
          "output_type": "execute_result",
          "data": {
            "text/plain": [
              "tensor([0, 0, 0, 0, 0, 0, 0, 0, 0, 0])"
            ]
          },
          "metadata": {},
          "execution_count": 16
        }
      ]
    },
    {
      "cell_type": "markdown",
      "source": [
        "Tensor Data Types 16bit 32 bit float"
      ],
      "metadata": {
        "id": "pSXqlgkYGd7G"
      }
    },
    {
      "cell_type": "code",
      "source": [
        "float_32_tensor = torch.tensor([3.0, 6.0, 9.0], dtype=None,\n",
        "                               device=None,\n",
        "                               requires_grad=False)\n",
        "float_32_tensor.dtype"
      ],
      "metadata": {
        "id": "bnqLK98uGd4P",
        "outputId": "b25a7159-3235-406f-bae4-75f47ee328db",
        "colab": {
          "base_uri": "https://localhost:8080/"
        }
      },
      "execution_count": null,
      "outputs": [
        {
          "output_type": "execute_result",
          "data": {
            "text/plain": [
              "torch.float32"
            ]
          },
          "metadata": {},
          "execution_count": 17
        }
      ]
    },
    {
      "cell_type": "code",
      "source": [
        "float_16_tensor = torch.tensor([1.0, 2.0, 3.0], dtype=torch.float16)\n",
        "float_16_tensor"
      ],
      "metadata": {
        "id": "763Dzq9EHaPG",
        "outputId": "95382105-0922-4012-ac56-9e15407b0c84",
        "colab": {
          "base_uri": "https://localhost:8080/"
        }
      },
      "execution_count": null,
      "outputs": [
        {
          "output_type": "execute_result",
          "data": {
            "text/plain": [
              "tensor([1., 2., 3.], dtype=torch.float16)"
            ]
          },
          "metadata": {},
          "execution_count": 18
        }
      ]
    },
    {
      "cell_type": "code",
      "source": [
        "float_64_tensor = float_32_tensor.type(torch.float64)\n",
        "float_64_tensor.dtype"
      ],
      "metadata": {
        "id": "pbgvvGoOHtzT",
        "outputId": "a03f8d8e-7af2-42ec-fd67-461994d1a902",
        "colab": {
          "base_uri": "https://localhost:8080/"
        }
      },
      "execution_count": null,
      "outputs": [
        {
          "output_type": "execute_result",
          "data": {
            "text/plain": [
              "torch.float64"
            ]
          },
          "metadata": {},
          "execution_count": 19
        }
      ]
    },
    {
      "cell_type": "code",
      "source": [
        "float_16_tensor * float_32_tensor"
      ],
      "metadata": {
        "id": "3edZSZyjI4Mb",
        "outputId": "0d098ec0-a1dc-4f96-89e9-a24777a6931b",
        "colab": {
          "base_uri": "https://localhost:8080/"
        }
      },
      "execution_count": null,
      "outputs": [
        {
          "output_type": "execute_result",
          "data": {
            "text/plain": [
              "tensor([ 3., 12., 27.])"
            ]
          },
          "metadata": {},
          "execution_count": 20
        }
      ]
    },
    {
      "cell_type": "code",
      "source": [
        "float_64_tensor"
      ],
      "metadata": {
        "id": "L_HIGtueJwAC",
        "outputId": "1279a341-f74d-4823-80d3-6e055c9fe7a5",
        "colab": {
          "base_uri": "https://localhost:8080/"
        }
      },
      "execution_count": null,
      "outputs": [
        {
          "output_type": "execute_result",
          "data": {
            "text/plain": [
              "tensor([3., 6., 9.], dtype=torch.float64)"
            ]
          },
          "metadata": {},
          "execution_count": 21
        }
      ]
    },
    {
      "cell_type": "markdown",
      "source": [
        "**Tensor Information**"
      ],
      "metadata": {
        "id": "16zN-nNX20MR"
      }
    },
    {
      "cell_type": "code",
      "source": [
        "float_64_tensor = torch.tensor([3.0, 4.5, 7.8, 9.0], dtype=torch.float64)\n",
        "print(float_64_tensor)"
      ],
      "metadata": {
        "id": "GZhZRBAS2-ta",
        "outputId": "73ea5d4c-0aff-4c6d-d4fe-fb11315c9f40",
        "colab": {
          "base_uri": "https://localhost:8080/"
        }
      },
      "execution_count": null,
      "outputs": [
        {
          "output_type": "stream",
          "name": "stdout",
          "text": [
            "tensor([3.0000, 4.5000, 7.8000, 9.0000], dtype=torch.float64)\n"
          ]
        }
      ]
    },
    {
      "cell_type": "code",
      "source": [
        "float_16_tensor = float_64_tensor.type(torch.float16)\n",
        "float_16_tensor.dtype"
      ],
      "metadata": {
        "id": "2pJNuZO23oZH",
        "outputId": "2b19de3c-7e5b-46b3-c90a-80d281bbe2d8",
        "colab": {
          "base_uri": "https://localhost:8080/"
        }
      },
      "execution_count": null,
      "outputs": [
        {
          "output_type": "execute_result",
          "data": {
            "text/plain": [
              "torch.float16"
            ]
          },
          "metadata": {},
          "execution_count": 23
        }
      ]
    },
    {
      "cell_type": "code",
      "source": [
        "random_tensor = torch.rand(size=(4, 5))\n",
        "print(random_tensor)\n",
        "print(f\"Data type: {random_tensor.dtype}\")\n",
        "print(f\"Size or Shape: {random_tensor.shape}\")\n",
        "print(f\"Size or Shape: {random_tensor.size()}\")\n",
        "print(f\"Device: {random_tensor.device}\")\n"
      ],
      "metadata": {
        "id": "7TFAFMfR4PWO",
        "outputId": "c553534b-26f5-4a3e-8418-9226eb554f8c",
        "colab": {
          "base_uri": "https://localhost:8080/"
        }
      },
      "execution_count": null,
      "outputs": [
        {
          "output_type": "stream",
          "name": "stdout",
          "text": [
            "tensor([[0.4754, 0.7662, 0.8985, 0.5804, 0.3151],\n",
            "        [0.3452, 0.6396, 0.0537, 0.0340, 0.2209],\n",
            "        [0.4418, 0.9243, 0.9109, 0.3854, 0.2321],\n",
            "        [0.5305, 0.6342, 0.9444, 0.2983, 0.9621]])\n",
            "Data type: torch.float32\n",
            "Size or Shape: torch.Size([4, 5])\n",
            "Size or Shape: torch.Size([4, 5])\n",
            "Device: cpu\n"
          ]
        }
      ]
    },
    {
      "cell_type": "markdown",
      "source": [
        "MATRIX MANIPULATION:\n",
        "* ADDITION\n",
        "* SUBTRACTION\n",
        "* MUL ELEMENT WISE\n",
        "*DIVISION\n",
        "*MATRIX MUL"
      ],
      "metadata": {
        "id": "0U8oqJp35GIV"
      }
    },
    {
      "cell_type": "code",
      "source": [
        "tensor = torch.tensor([1, 2, 3])\n",
        "tensor = tensor * 10\n",
        "tensor"
      ],
      "metadata": {
        "id": "01-g_sOrppfw",
        "outputId": "ee5ce9f4-dbd1-4005-8ab1-a54b59722d36",
        "colab": {
          "base_uri": "https://localhost:8080/"
        }
      },
      "execution_count": null,
      "outputs": [
        {
          "output_type": "execute_result",
          "data": {
            "text/plain": [
              "tensor([10, 20, 30])"
            ]
          },
          "metadata": {},
          "execution_count": 25
        }
      ]
    },
    {
      "cell_type": "code",
      "source": [
        "tensor - 12"
      ],
      "metadata": {
        "id": "Mq9iSRnWp7Ws",
        "outputId": "ca76575e-298f-4cbb-955d-6ee4dec8e7b9",
        "colab": {
          "base_uri": "https://localhost:8080/"
        }
      },
      "execution_count": null,
      "outputs": [
        {
          "output_type": "execute_result",
          "data": {
            "text/plain": [
              "tensor([-2,  8, 18])"
            ]
          },
          "metadata": {},
          "execution_count": 26
        }
      ]
    },
    {
      "cell_type": "code",
      "source": [
        "tensor"
      ],
      "metadata": {
        "id": "7o5kNqXsqBD6",
        "outputId": "3688468b-64ac-4d03-f3ad-09b809d41cc7",
        "colab": {
          "base_uri": "https://localhost:8080/"
        }
      },
      "execution_count": null,
      "outputs": [
        {
          "output_type": "execute_result",
          "data": {
            "text/plain": [
              "tensor([10, 20, 30])"
            ]
          },
          "metadata": {},
          "execution_count": 27
        }
      ]
    },
    {
      "cell_type": "code",
      "source": [
        "tensor = tensor / 2\n",
        "tensor"
      ],
      "metadata": {
        "id": "qOmH-fQtqEA0",
        "outputId": "97547a09-8cea-4b55-f417-dceddb8ac1fd",
        "colab": {
          "base_uri": "https://localhost:8080/"
        }
      },
      "execution_count": null,
      "outputs": [
        {
          "output_type": "execute_result",
          "data": {
            "text/plain": [
              "tensor([ 5., 10., 15.])"
            ]
          },
          "metadata": {},
          "execution_count": 28
        }
      ]
    },
    {
      "cell_type": "code",
      "source": [
        "torch.add(tensor, 12)"
      ],
      "metadata": {
        "id": "F0dv7kkMqMsq",
        "outputId": "7091bff2-1f4a-4e4c-c9fa-358a396ffc9d",
        "colab": {
          "base_uri": "https://localhost:8080/"
        }
      },
      "execution_count": null,
      "outputs": [
        {
          "output_type": "execute_result",
          "data": {
            "text/plain": [
              "tensor([17., 22., 27.])"
            ]
          },
          "metadata": {},
          "execution_count": 29
        }
      ]
    },
    {
      "cell_type": "code",
      "source": [
        "tensor"
      ],
      "metadata": {
        "id": "KWzg_2DHqSbS",
        "outputId": "8ab101a0-ad49-4ab4-aca3-0ade4ca66424",
        "colab": {
          "base_uri": "https://localhost:8080/"
        }
      },
      "execution_count": null,
      "outputs": [
        {
          "output_type": "execute_result",
          "data": {
            "text/plain": [
              "tensor([ 5., 10., 15.])"
            ]
          },
          "metadata": {},
          "execution_count": 30
        }
      ]
    },
    {
      "cell_type": "code",
      "source": [
        "tensor = torch.mul(tensor, 2)\n",
        "tensor"
      ],
      "metadata": {
        "id": "16Uq6KkIqVFL",
        "outputId": "b1e1d9b6-d3d7-45eb-a58a-21e802271319",
        "colab": {
          "base_uri": "https://localhost:8080/"
        }
      },
      "execution_count": null,
      "outputs": [
        {
          "output_type": "execute_result",
          "data": {
            "text/plain": [
              "tensor([10., 20., 30.])"
            ]
          },
          "metadata": {},
          "execution_count": 31
        }
      ]
    },
    {
      "cell_type": "markdown",
      "source": [
        "MATRIX MULTIPLICATION (DOT PRODUCT)"
      ],
      "metadata": {
        "id": "VEprWcak9klb"
      }
    },
    {
      "cell_type": "code",
      "source": [
        "tensor"
      ],
      "metadata": {
        "id": "HClrMkuq9pOC",
        "outputId": "882acb3b-39ef-44dc-bdb9-f82469af0ba9",
        "colab": {
          "base_uri": "https://localhost:8080/"
        }
      },
      "execution_count": null,
      "outputs": [
        {
          "output_type": "execute_result",
          "data": {
            "text/plain": [
              "tensor([10., 20., 30.])"
            ]
          },
          "metadata": {},
          "execution_count": 32
        }
      ]
    },
    {
      "cell_type": "code",
      "source": [
        "tensor.dtype"
      ],
      "metadata": {
        "id": "-Ui6BI0s9smS",
        "outputId": "18f0780f-9009-4c8f-db1d-2e7720d8c2de",
        "colab": {
          "base_uri": "https://localhost:8080/"
        }
      },
      "execution_count": null,
      "outputs": [
        {
          "output_type": "execute_result",
          "data": {
            "text/plain": [
              "torch.float32"
            ]
          },
          "metadata": {},
          "execution_count": 33
        }
      ]
    },
    {
      "cell_type": "code",
      "source": [
        "print(tensor ,\"*\", tensor)\n",
        "print(f\"Equals:  {tensor * tensor}\")"
      ],
      "metadata": {
        "id": "iaDund9W9uuq",
        "outputId": "8182943e-973e-4efe-bd4d-ae641de5d993",
        "colab": {
          "base_uri": "https://localhost:8080/"
        }
      },
      "execution_count": null,
      "outputs": [
        {
          "output_type": "stream",
          "name": "stdout",
          "text": [
            "tensor([10., 20., 30.]) * tensor([10., 20., 30.])\n",
            "Equals:  tensor([100., 400., 900.])\n"
          ]
        }
      ]
    },
    {
      "cell_type": "code",
      "source": [
        "# Vector Multiplication of Tensor with itself\n",
        "%%time\n",
        "print(torch.matmul(tensor, tensor))"
      ],
      "metadata": {
        "id": "8fLqsDBI-X15",
        "outputId": "24995b4f-b3ae-4a2c-8881-753c3e8876cb",
        "colab": {
          "base_uri": "https://localhost:8080/"
        }
      },
      "execution_count": null,
      "outputs": [
        {
          "output_type": "stream",
          "name": "stdout",
          "text": [
            "tensor(1400.)\n",
            "CPU times: user 2.07 ms, sys: 12 µs, total: 2.09 ms\n",
            "Wall time: 6.84 ms\n"
          ]
        }
      ]
    },
    {
      "cell_type": "code",
      "source": [
        "%%time\n",
        "torch.matmul(tensor, tensor)"
      ],
      "metadata": {
        "id": "MKKXpv5I-vjJ",
        "outputId": "759556c5-a195-4c3e-8be8-e19933ff3588",
        "colab": {
          "base_uri": "https://localhost:8080/"
        }
      },
      "execution_count": null,
      "outputs": [
        {
          "output_type": "stream",
          "name": "stdout",
          "text": [
            "CPU times: user 43 µs, sys: 7 µs, total: 50 µs\n",
            "Wall time: 53.4 µs\n"
          ]
        },
        {
          "output_type": "execute_result",
          "data": {
            "text/plain": [
              "tensor(1400.)"
            ]
          },
          "metadata": {},
          "execution_count": 36
        }
      ]
    },
    {
      "cell_type": "code",
      "source": [
        "%%time\n",
        "sum = 0\n",
        "for i in range(len(tensor)):\n",
        "  sum += tensor[i] * tensor[i]\n",
        "print(sum)"
      ],
      "metadata": {
        "id": "jbNk7Vh3--pZ",
        "outputId": "68437929-7760-4dd2-ff84-d6342d1bc7ae",
        "colab": {
          "base_uri": "https://localhost:8080/"
        }
      },
      "execution_count": null,
      "outputs": [
        {
          "output_type": "stream",
          "name": "stdout",
          "text": [
            "tensor(1400.)\n",
            "CPU times: user 1.83 ms, sys: 0 ns, total: 1.83 ms\n",
            "Wall time: 2.93 ms\n"
          ]
        }
      ]
    },
    {
      "cell_type": "markdown",
      "source": [
        "**Matrix Multiplication Important Rules**\n",
        "\n",
        "\n",
        "1.   (3, 2) @ (2, 3) Inner dimensions must match\n",
        "2.   Resultant matrix will be of outer dimernsion size (3, 3)\n",
        "\n",
        "\n"
      ],
      "metadata": {
        "id": "YpZVCRuu2g7h"
      }
    },
    {
      "cell_type": "code",
      "source": [
        "torch.matmul(torch.rand(size=(3, 3)), torch.rand(size=(3, 4)))"
      ],
      "metadata": {
        "id": "tAaKg4oH3TKj",
        "outputId": "e8d51b1a-7aa0-42de-f455-e0e480036931",
        "colab": {
          "base_uri": "https://localhost:8080/"
        }
      },
      "execution_count": null,
      "outputs": [
        {
          "output_type": "execute_result",
          "data": {
            "text/plain": [
              "tensor([[0.6289, 0.9295, 0.5944, 0.5077],\n",
              "        [0.7882, 0.5771, 0.4855, 0.7639],\n",
              "        [0.5556, 0.5895, 0.3593, 0.5777]])"
            ]
          },
          "metadata": {},
          "execution_count": 38
        }
      ]
    },
    {
      "cell_type": "code",
      "source": [
        "tensor_A = torch.tensor([[1, 2],\n",
        "                         [3, 4],\n",
        "                         [5, 6]])\n",
        "tensor_B = torch.tensor([[7, 10],\n",
        "                         [8, 11],\n",
        "                         [9, 12]])\n",
        "tensor_A.shape, tensor_B.shape\n",
        "\n",
        "#Inner dimensions should match,\n",
        "# therefore arranging data in matrix in such a way using transpose so that matrices will multiply.\n",
        "\n",
        "tensor_B_T = tensor_B.T\n",
        "\n",
        "print(tensor_A.shape)\n",
        "print(tensor_B.shape)\n",
        "print(tensor_B_T.shape)\n",
        "\n",
        "resultant = torch.matmul(tensor_A, tensor_B_T)\n",
        "print(resultant)\n",
        "print(resultant.size)\n",
        "\n",
        "\n"
      ],
      "metadata": {
        "id": "71o8qOSN79uE",
        "outputId": "686ceb23-7dd2-41c9-df6e-2ce22b6ca3ba",
        "colab": {
          "base_uri": "https://localhost:8080/"
        }
      },
      "execution_count": null,
      "outputs": [
        {
          "output_type": "stream",
          "name": "stdout",
          "text": [
            "torch.Size([3, 2])\n",
            "torch.Size([3, 2])\n",
            "torch.Size([2, 3])\n",
            "tensor([[ 27,  30,  33],\n",
            "        [ 61,  68,  75],\n",
            "        [ 95, 106, 117]])\n",
            "<built-in method size of Tensor object at 0x7fc8fcb9a7f0>\n"
          ]
        }
      ]
    },
    {
      "cell_type": "markdown",
      "source": [
        "**Tensor Aggregation (min, max, mean, Sum)**"
      ],
      "metadata": {
        "id": "BOBD7OtQHOSL"
      }
    },
    {
      "cell_type": "code",
      "source": [
        "x = torch.arange(0, 100, 10)\n",
        "x, x.dtype"
      ],
      "metadata": {
        "id": "cFAe4lBHHT45",
        "outputId": "ad959b28-2eb8-4af8-ecc7-0ce6595ba3fa",
        "colab": {
          "base_uri": "https://localhost:8080/"
        }
      },
      "execution_count": null,
      "outputs": [
        {
          "output_type": "execute_result",
          "data": {
            "text/plain": [
              "(tensor([ 0, 10, 20, 30, 40, 50, 60, 70, 80, 90]), torch.int64)"
            ]
          },
          "metadata": {},
          "execution_count": 40
        }
      ]
    },
    {
      "cell_type": "code",
      "source": [
        "torch.sum(x), x.sum()"
      ],
      "metadata": {
        "id": "mnpbEtziHxHw",
        "outputId": "2e0f2fe5-39fd-4e9b-ace3-a3c776f07759",
        "colab": {
          "base_uri": "https://localhost:8080/"
        }
      },
      "execution_count": null,
      "outputs": [
        {
          "output_type": "execute_result",
          "data": {
            "text/plain": [
              "(tensor(450), tensor(450))"
            ]
          },
          "metadata": {},
          "execution_count": 41
        }
      ]
    },
    {
      "cell_type": "code",
      "source": [
        "torch.min(x), x.min()"
      ],
      "metadata": {
        "id": "mmPV0mXTIAhY",
        "outputId": "d0a3200f-b92e-45b9-8134-c0b5f257e168",
        "colab": {
          "base_uri": "https://localhost:8080/"
        }
      },
      "execution_count": null,
      "outputs": [
        {
          "output_type": "execute_result",
          "data": {
            "text/plain": [
              "(tensor(0), tensor(0))"
            ]
          },
          "metadata": {},
          "execution_count": 42
        }
      ]
    },
    {
      "cell_type": "code",
      "source": [
        "torch.max(x), x.max()"
      ],
      "metadata": {
        "id": "41TqwSSAIJ1g",
        "outputId": "2342b514-283c-4460-e3cb-b509f46bb7d8",
        "colab": {
          "base_uri": "https://localhost:8080/"
        }
      },
      "execution_count": null,
      "outputs": [
        {
          "output_type": "execute_result",
          "data": {
            "text/plain": [
              "(tensor(90), tensor(90))"
            ]
          },
          "metadata": {},
          "execution_count": 43
        }
      ]
    },
    {
      "cell_type": "code",
      "source": [
        "#torch.mean(x) . This will not work as mean requires floating point or complex dtype. arange has int64\n",
        "\n",
        "torch.mean(x.type(torch.float32)), x.type((torch.float32)).mean()"
      ],
      "metadata": {
        "id": "StyzU4gGIPPQ",
        "outputId": "47e749d2-157d-4891-bdcd-ddc5f06e9a1a",
        "colab": {
          "base_uri": "https://localhost:8080/"
        }
      },
      "execution_count": null,
      "outputs": [
        {
          "output_type": "execute_result",
          "data": {
            "text/plain": [
              "(tensor(45.), tensor(45.))"
            ]
          },
          "metadata": {},
          "execution_count": 44
        }
      ]
    },
    {
      "cell_type": "markdown",
      "source": [
        "**Positional Min and Max values in tensor**\n"
      ],
      "metadata": {
        "id": "rJutFXUDBsy-"
      }
    },
    {
      "cell_type": "code",
      "source": [
        "y = torch.arange(1, 100, 10)\n",
        "#y.argmin()\n",
        "print(torch.argmin(y))"
      ],
      "metadata": {
        "id": "eL2X5InBBxyd",
        "outputId": "905944b3-8f95-4b3d-d5de-e8b2c6920cef",
        "colab": {
          "base_uri": "https://localhost:8080/"
        }
      },
      "execution_count": null,
      "outputs": [
        {
          "output_type": "stream",
          "name": "stdout",
          "text": [
            "tensor(0)\n"
          ]
        }
      ]
    },
    {
      "cell_type": "code",
      "source": [
        "y.argmax()"
      ],
      "metadata": {
        "id": "0NTW4tB7CUn9",
        "outputId": "024d9977-657d-4126-e83d-7efc5fdf0b07",
        "colab": {
          "base_uri": "https://localhost:8080/"
        }
      },
      "execution_count": null,
      "outputs": [
        {
          "output_type": "execute_result",
          "data": {
            "text/plain": [
              "tensor(9)"
            ]
          },
          "metadata": {},
          "execution_count": 46
        }
      ]
    },
    {
      "cell_type": "code",
      "source": [
        "y[9]"
      ],
      "metadata": {
        "id": "4Pz59RBTCY3G",
        "outputId": "3f0ef564-13bb-4595-d0e8-4d0842526474",
        "colab": {
          "base_uri": "https://localhost:8080/"
        }
      },
      "execution_count": null,
      "outputs": [
        {
          "output_type": "execute_result",
          "data": {
            "text/plain": [
              "tensor(91)"
            ]
          },
          "metadata": {},
          "execution_count": 47
        }
      ]
    },
    {
      "cell_type": "markdown",
      "source": [
        "**Tensor reshape, view, squeeze, unsqueeze**"
      ],
      "metadata": {
        "id": "r6ntjuOih_UA"
      }
    },
    {
      "cell_type": "code",
      "source": [
        "x = torch.arange(1., 13.)\n",
        "x.shape\n"
      ],
      "metadata": {
        "id": "sXRWkqxehyaE",
        "outputId": "e7af9d50-da46-4038-f83f-e1507439f5c5",
        "colab": {
          "base_uri": "https://localhost:8080/"
        }
      },
      "execution_count": null,
      "outputs": [
        {
          "output_type": "execute_result",
          "data": {
            "text/plain": [
              "torch.Size([12])"
            ]
          },
          "metadata": {},
          "execution_count": 48
        }
      ]
    },
    {
      "cell_type": "code",
      "source": [
        "x = x.reshape(4, 3)\n",
        "x, x.shape"
      ],
      "metadata": {
        "id": "g0iSA5wwi_IJ",
        "outputId": "09c121b3-6318-4a09-874a-0eb7095b242b",
        "colab": {
          "base_uri": "https://localhost:8080/"
        }
      },
      "execution_count": null,
      "outputs": [
        {
          "output_type": "execute_result",
          "data": {
            "text/plain": [
              "(tensor([[ 1.,  2.,  3.],\n",
              "         [ 4.,  5.,  6.],\n",
              "         [ 7.,  8.,  9.],\n",
              "         [10., 11., 12.]]),\n",
              " torch.Size([4, 3]))"
            ]
          },
          "metadata": {},
          "execution_count": 49
        }
      ]
    },
    {
      "cell_type": "code",
      "source": [
        "import torch\n",
        "x = torch.arange(1., 10.)\n",
        "x, x.shape"
      ],
      "metadata": {
        "id": "vaqkaGKnjSS6",
        "outputId": "d088f7e1-532a-427b-d5a5-91e66677bca2",
        "colab": {
          "base_uri": "https://localhost:8080/"
        }
      },
      "execution_count": null,
      "outputs": [
        {
          "output_type": "execute_result",
          "data": {
            "text/plain": [
              "(tensor([1., 2., 3., 4., 5., 6., 7., 8., 9.]), torch.Size([9]))"
            ]
          },
          "metadata": {},
          "execution_count": 50
        }
      ]
    },
    {
      "cell_type": "code",
      "source": [
        "x_reshaped = x.reshape(1, 9)\n",
        "x_reshaped, x_reshaped.shape"
      ],
      "metadata": {
        "id": "x4IJdAqOO0oX",
        "outputId": "aea5003f-8acc-4a93-80c2-f2a01f7f76d0",
        "colab": {
          "base_uri": "https://localhost:8080/"
        }
      },
      "execution_count": null,
      "outputs": [
        {
          "output_type": "execute_result",
          "data": {
            "text/plain": [
              "(tensor([[1., 2., 3., 4., 5., 6., 7., 8., 9.]]), torch.Size([1, 9]))"
            ]
          },
          "metadata": {},
          "execution_count": 51
        }
      ]
    },
    {
      "cell_type": "code",
      "source": [
        "x_reshaped[:, 0] = 5.\n",
        "x_reshaped, x"
      ],
      "metadata": {
        "id": "wpE-CD65PD72",
        "outputId": "2a3c112a-a031-4871-eb1d-8b6f2ff86f3d",
        "colab": {
          "base_uri": "https://localhost:8080/"
        }
      },
      "execution_count": null,
      "outputs": [
        {
          "output_type": "execute_result",
          "data": {
            "text/plain": [
              "(tensor([[5., 2., 3., 4., 5., 6., 7., 8., 9.]]),\n",
              " tensor([5., 2., 3., 4., 5., 6., 7., 8., 9.]))"
            ]
          },
          "metadata": {},
          "execution_count": 52
        }
      ]
    },
    {
      "cell_type": "code",
      "source": [
        "y = x.view(1, 9)\n",
        "y, y.shape"
      ],
      "metadata": {
        "id": "8X7Ikm-QR22i",
        "outputId": "f1d392eb-827e-475e-afbf-f55fa3fc087a",
        "colab": {
          "base_uri": "https://localhost:8080/"
        }
      },
      "execution_count": null,
      "outputs": [
        {
          "output_type": "execute_result",
          "data": {
            "text/plain": [
              "(tensor([[5., 2., 3., 4., 5., 6., 7., 8., 9.]]), torch.Size([1, 9]))"
            ]
          },
          "metadata": {},
          "execution_count": 53
        }
      ]
    },
    {
      "cell_type": "code",
      "source": [
        "y[:, 0] = 1.\n",
        "y, x"
      ],
      "metadata": {
        "id": "Wza4ri6BSIwo",
        "outputId": "8b4c30b0-47ed-4c03-de0f-327019cb6f0c",
        "colab": {
          "base_uri": "https://localhost:8080/"
        }
      },
      "execution_count": null,
      "outputs": [
        {
          "output_type": "execute_result",
          "data": {
            "text/plain": [
              "(tensor([[1., 2., 3., 4., 5., 6., 7., 8., 9.]]),\n",
              " tensor([1., 2., 3., 4., 5., 6., 7., 8., 9.]))"
            ]
          },
          "metadata": {},
          "execution_count": 54
        }
      ]
    },
    {
      "cell_type": "code",
      "source": [
        "stacked_x = torch.stack([x, x, x, x], dim = 0)\n",
        "stacked_x, stacked_x.shape"
      ],
      "metadata": {
        "id": "3ThkipbXS-bP",
        "outputId": "d8e6ab09-7c49-45eb-f9c4-e96cff2a9124",
        "colab": {
          "base_uri": "https://localhost:8080/"
        }
      },
      "execution_count": null,
      "outputs": [
        {
          "output_type": "execute_result",
          "data": {
            "text/plain": [
              "(tensor([[1., 2., 3., 4., 5., 6., 7., 8., 9.],\n",
              "         [1., 2., 3., 4., 5., 6., 7., 8., 9.],\n",
              "         [1., 2., 3., 4., 5., 6., 7., 8., 9.],\n",
              "         [1., 2., 3., 4., 5., 6., 7., 8., 9.]]),\n",
              " torch.Size([4, 9]))"
            ]
          },
          "metadata": {},
          "execution_count": 55
        }
      ]
    },
    {
      "cell_type": "code",
      "source": [
        "x"
      ],
      "metadata": {
        "id": "NmHmOGGhYaBO",
        "outputId": "8f64434c-5458-4866-9fa1-25ed81f2b0cb",
        "colab": {
          "base_uri": "https://localhost:8080/"
        }
      },
      "execution_count": null,
      "outputs": [
        {
          "output_type": "execute_result",
          "data": {
            "text/plain": [
              "tensor([1., 2., 3., 4., 5., 6., 7., 8., 9.])"
            ]
          },
          "metadata": {},
          "execution_count": 56
        }
      ]
    },
    {
      "cell_type": "code",
      "source": [
        "x.shape"
      ],
      "metadata": {
        "id": "mWR9__7pYkc-",
        "outputId": "284e7fbe-9cfd-4c60-d5ef-2ef20361ab4f",
        "colab": {
          "base_uri": "https://localhost:8080/"
        }
      },
      "execution_count": null,
      "outputs": [
        {
          "output_type": "execute_result",
          "data": {
            "text/plain": [
              "torch.Size([9])"
            ]
          },
          "metadata": {},
          "execution_count": 57
        }
      ]
    },
    {
      "cell_type": "code",
      "source": [
        "x_reshaped, x_reshaped.shape"
      ],
      "metadata": {
        "id": "wqZ_sZsrYwDw",
        "outputId": "2f948139-de73-40c0-d9ff-09e7c430ecf8",
        "colab": {
          "base_uri": "https://localhost:8080/"
        }
      },
      "execution_count": null,
      "outputs": [
        {
          "output_type": "execute_result",
          "data": {
            "text/plain": [
              "(tensor([[1., 2., 3., 4., 5., 6., 7., 8., 9.]]), torch.Size([1, 9]))"
            ]
          },
          "metadata": {},
          "execution_count": 58
        }
      ]
    },
    {
      "cell_type": "code",
      "source": [
        "y= x_reshaped.squeeze()\n",
        "y, y.shape, x_reshaped"
      ],
      "metadata": {
        "id": "1Rtt-vsBY6_I",
        "outputId": "f1235510-a2db-4cb0-f290-a6d3ca733c7f",
        "colab": {
          "base_uri": "https://localhost:8080/"
        }
      },
      "execution_count": null,
      "outputs": [
        {
          "output_type": "execute_result",
          "data": {
            "text/plain": [
              "(tensor([1., 2., 3., 4., 5., 6., 7., 8., 9.]),\n",
              " torch.Size([9]),\n",
              " tensor([[1., 2., 3., 4., 5., 6., 7., 8., 9.]]))"
            ]
          },
          "metadata": {},
          "execution_count": 59
        }
      ]
    },
    {
      "cell_type": "markdown",
      "source": [
        "**Tensor reshape, view, squeeze, unsqueeze, stack**"
      ],
      "metadata": {
        "id": "hA9-e6NaoJFs"
      }
    },
    {
      "cell_type": "code",
      "source": [
        "x = torch.arange(1., 10.)\n",
        "x, x.shape"
      ],
      "metadata": {
        "id": "kU-Wa3yroQon",
        "outputId": "e0c844f5-e041-4307-85d8-7d14ac5c948d",
        "colab": {
          "base_uri": "https://localhost:8080/"
        }
      },
      "execution_count": null,
      "outputs": [
        {
          "output_type": "execute_result",
          "data": {
            "text/plain": [
              "(tensor([1., 2., 3., 4., 5., 6., 7., 8., 9.]), torch.Size([9]))"
            ]
          },
          "metadata": {},
          "execution_count": 60
        }
      ]
    },
    {
      "cell_type": "code",
      "source": [
        "# Reshaping a Tensor. Element number should not be changed.\n",
        "x_reshaped = x.reshape(1, 9)\n",
        "x_reshaped, x_reshaped.shape"
      ],
      "metadata": {
        "id": "EovL3wg8oYs7",
        "outputId": "b375a2c6-cb0b-49db-ad32-fcd58d974a90",
        "colab": {
          "base_uri": "https://localhost:8080/"
        }
      },
      "execution_count": null,
      "outputs": [
        {
          "output_type": "execute_result",
          "data": {
            "text/plain": [
              "(tensor([[1., 2., 3., 4., 5., 6., 7., 8., 9.]]), torch.Size([1, 9]))"
            ]
          },
          "metadata": {},
          "execution_count": 61
        }
      ]
    },
    {
      "cell_type": "code",
      "source": [
        "# Checking if the altering reshaped operation changes the original x tensor or not\n",
        "x_reshaped[:, 0] = 5.# taking all rows and changing 0th element\n",
        "x_reshaped, x  # Yes it changes"
      ],
      "metadata": {
        "id": "G_TphRdoo3dN",
        "outputId": "c45d6e33-dfb2-4e55-9a7f-5fb8d5fd663f",
        "colab": {
          "base_uri": "https://localhost:8080/"
        }
      },
      "execution_count": null,
      "outputs": [
        {
          "output_type": "execute_result",
          "data": {
            "text/plain": [
              "(tensor([[5., 2., 3., 4., 5., 6., 7., 8., 9.]]),\n",
              " tensor([5., 2., 3., 4., 5., 6., 7., 8., 9.]))"
            ]
          },
          "metadata": {},
          "execution_count": 62
        }
      ]
    },
    {
      "cell_type": "code",
      "source": [
        "x_view = x.view(1, 9) # same as reshaped\n",
        "x_view, x_view.shape, x, x.shape"
      ],
      "metadata": {
        "id": "dyr0fCnaplmi",
        "outputId": "8244b2f5-8036-4114-a9c3-282dc2858fb9",
        "colab": {
          "base_uri": "https://localhost:8080/"
        }
      },
      "execution_count": null,
      "outputs": [
        {
          "output_type": "execute_result",
          "data": {
            "text/plain": [
              "(tensor([[5., 2., 3., 4., 5., 6., 7., 8., 9.]]),\n",
              " torch.Size([1, 9]),\n",
              " tensor([5., 2., 3., 4., 5., 6., 7., 8., 9.]),\n",
              " torch.Size([9]))"
            ]
          },
          "metadata": {},
          "execution_count": 63
        }
      ]
    },
    {
      "cell_type": "code",
      "source": [
        "x_view[:, 0] = 1.\n",
        "x_view, x, x_view.shape, x.shape"
      ],
      "metadata": {
        "id": "sc4oLpX5qOhg",
        "outputId": "3867c594-c075-4928-f070-03263ec714a1",
        "colab": {
          "base_uri": "https://localhost:8080/"
        }
      },
      "execution_count": null,
      "outputs": [
        {
          "output_type": "execute_result",
          "data": {
            "text/plain": [
              "(tensor([[1., 2., 3., 4., 5., 6., 7., 8., 9.]]),\n",
              " tensor([1., 2., 3., 4., 5., 6., 7., 8., 9.]),\n",
              " torch.Size([1, 9]),\n",
              " torch.Size([9]))"
            ]
          },
          "metadata": {},
          "execution_count": 64
        }
      ]
    },
    {
      "cell_type": "code",
      "source": [
        "x_reshaped"
      ],
      "metadata": {
        "id": "8qaGjN2wqhl3",
        "outputId": "f1ae4f9c-6df2-4b1a-a6ec-44b97299a096",
        "colab": {
          "base_uri": "https://localhost:8080/"
        }
      },
      "execution_count": null,
      "outputs": [
        {
          "output_type": "execute_result",
          "data": {
            "text/plain": [
              "tensor([[1., 2., 3., 4., 5., 6., 7., 8., 9.]])"
            ]
          },
          "metadata": {},
          "execution_count": 65
        }
      ]
    },
    {
      "cell_type": "code",
      "source": [
        "#Squeezing tensor removes 1 dimension\n",
        "\n",
        "x_squeezed = x_reshaped.squeeze()\n",
        "x_reshaped, x_reshaped.shape, x_squeezed, x_squeezed.shape"
      ],
      "metadata": {
        "id": "LYz-vbw1qk2w",
        "outputId": "65fd6992-5d85-4c06-c839-5dbff834d05b",
        "colab": {
          "base_uri": "https://localhost:8080/"
        }
      },
      "execution_count": null,
      "outputs": [
        {
          "output_type": "execute_result",
          "data": {
            "text/plain": [
              "(tensor([[1., 2., 3., 4., 5., 6., 7., 8., 9.]]),\n",
              " torch.Size([1, 9]),\n",
              " tensor([1., 2., 3., 4., 5., 6., 7., 8., 9.]),\n",
              " torch.Size([9]))"
            ]
          },
          "metadata": {},
          "execution_count": 66
        }
      ]
    },
    {
      "cell_type": "code",
      "source": [
        "\n",
        "x_squeezed"
      ],
      "metadata": {
        "id": "6SsuGd_ErlRl",
        "outputId": "b87b4e04-b75b-4a44-e2c5-2fb866f770a5",
        "colab": {
          "base_uri": "https://localhost:8080/"
        }
      },
      "execution_count": null,
      "outputs": [
        {
          "output_type": "execute_result",
          "data": {
            "text/plain": [
              "tensor([1., 2., 3., 4., 5., 6., 7., 8., 9.])"
            ]
          },
          "metadata": {},
          "execution_count": 67
        }
      ]
    },
    {
      "cell_type": "code",
      "source": [
        "#Unsqueezing adds 1 dimension\n",
        "x_unsqueeze = x_squeezed.unsqueeze(dim = 0)\n",
        "x_unsqueeze, x_unsqueeze.shape, x_squeezed, x_squeezed.shape"
      ],
      "metadata": {
        "id": "vNzEr9OZr8WU",
        "outputId": "449f40ee-62a6-43fe-a906-df90c4508445",
        "colab": {
          "base_uri": "https://localhost:8080/"
        }
      },
      "execution_count": null,
      "outputs": [
        {
          "output_type": "execute_result",
          "data": {
            "text/plain": [
              "(tensor([[1., 2., 3., 4., 5., 6., 7., 8., 9.]]),\n",
              " torch.Size([1, 9]),\n",
              " tensor([1., 2., 3., 4., 5., 6., 7., 8., 9.]),\n",
              " torch.Size([9]))"
            ]
          },
          "metadata": {},
          "execution_count": 68
        }
      ]
    },
    {
      "cell_type": "code",
      "source": [
        "#Stacking a tensor\n",
        "x"
      ],
      "metadata": {
        "id": "cyI0tqY3selT",
        "outputId": "ccaa84eb-344b-4c88-f58c-440354303160",
        "colab": {
          "base_uri": "https://localhost:8080/"
        }
      },
      "execution_count": null,
      "outputs": [
        {
          "output_type": "execute_result",
          "data": {
            "text/plain": [
              "tensor([1., 2., 3., 4., 5., 6., 7., 8., 9.])"
            ]
          },
          "metadata": {},
          "execution_count": 69
        }
      ]
    },
    {
      "cell_type": "code",
      "source": [
        "stack = torch.stack([x, x, x, x], dim = 1)\n",
        "stack"
      ],
      "metadata": {
        "id": "m08Jh2Uosk-K",
        "outputId": "57f70304-173c-45ff-9af6-1b2be2dd5ee8",
        "colab": {
          "base_uri": "https://localhost:8080/"
        }
      },
      "execution_count": null,
      "outputs": [
        {
          "output_type": "execute_result",
          "data": {
            "text/plain": [
              "tensor([[1., 1., 1., 1.],\n",
              "        [2., 2., 2., 2.],\n",
              "        [3., 3., 3., 3.],\n",
              "        [4., 4., 4., 4.],\n",
              "        [5., 5., 5., 5.],\n",
              "        [6., 6., 6., 6.],\n",
              "        [7., 7., 7., 7.],\n",
              "        [8., 8., 8., 8.],\n",
              "        [9., 9., 9., 9.]])"
            ]
          },
          "metadata": {},
          "execution_count": 70
        }
      ]
    },
    {
      "cell_type": "markdown",
      "source": [
        "**PERMUTE TENSOR REARRANGES DIMENSIONS**"
      ],
      "metadata": {
        "id": "Cv61JQgLt9oT"
      }
    },
    {
      "cell_type": "code",
      "source": [
        "x_original = torch.rand(size=(224, 224, 3))\n",
        "x_original, x_original.shape"
      ],
      "metadata": {
        "id": "hqm8hdVouDDR",
        "outputId": "499087a9-3af9-492b-8e36-89323650a697",
        "colab": {
          "base_uri": "https://localhost:8080/"
        }
      },
      "execution_count": null,
      "outputs": [
        {
          "output_type": "execute_result",
          "data": {
            "text/plain": [
              "(tensor([[[0.2083, 0.5349, 0.9901],\n",
              "          [0.5544, 0.1469, 0.1445],\n",
              "          [0.0235, 0.7264, 0.0886],\n",
              "          ...,\n",
              "          [0.0255, 0.4193, 0.3110],\n",
              "          [0.2264, 0.4755, 0.8724],\n",
              "          [0.8554, 0.6715, 0.4751]],\n",
              " \n",
              "         [[0.7154, 0.8907, 0.5367],\n",
              "          [0.4497, 0.8122, 0.8763],\n",
              "          [0.8652, 0.7010, 0.4369],\n",
              "          ...,\n",
              "          [0.1976, 0.5684, 0.5164],\n",
              "          [0.6913, 0.2789, 0.9746],\n",
              "          [0.0477, 0.9278, 0.6030]],\n",
              " \n",
              "         [[0.3410, 0.2383, 0.5169],\n",
              "          [0.2645, 0.1990, 0.8421],\n",
              "          [0.2643, 0.4346, 0.2067],\n",
              "          ...,\n",
              "          [0.7539, 0.0397, 0.9281],\n",
              "          [0.3852, 0.9458, 0.9595],\n",
              "          [0.3994, 0.6042, 0.4872]],\n",
              " \n",
              "         ...,\n",
              " \n",
              "         [[0.3740, 0.8164, 0.2010],\n",
              "          [0.6087, 0.9890, 0.5911],\n",
              "          [0.9148, 0.6690, 0.1827],\n",
              "          ...,\n",
              "          [0.2852, 0.7592, 0.8280],\n",
              "          [0.9978, 0.5363, 0.4393],\n",
              "          [0.2394, 0.2528, 0.9001]],\n",
              " \n",
              "         [[0.2072, 0.1825, 0.8349],\n",
              "          [0.7692, 0.2637, 0.0766],\n",
              "          [0.2481, 0.3557, 0.3861],\n",
              "          ...,\n",
              "          [0.9850, 0.9001, 0.6904],\n",
              "          [0.5139, 0.0925, 0.5351],\n",
              "          [0.6141, 0.5120, 0.7365]],\n",
              " \n",
              "         [[0.6676, 0.6907, 0.6045],\n",
              "          [0.8083, 0.4421, 0.8131],\n",
              "          [0.4897, 0.5405, 0.8242],\n",
              "          ...,\n",
              "          [0.3928, 0.9240, 0.7625],\n",
              "          [0.4867, 0.2692, 0.3087],\n",
              "          [0.1618, 0.4725, 0.1398]]]),\n",
              " torch.Size([224, 224, 3]))"
            ]
          },
          "metadata": {},
          "execution_count": 71
        }
      ]
    },
    {
      "cell_type": "code",
      "source": [
        "#Permuting it\n",
        "x_permute = x_original.permute(2, 0, 1)\n",
        "x_permute, x_permute.shape"
      ],
      "metadata": {
        "id": "JRCASOTVuOg5",
        "outputId": "b645ca12-acda-47f5-b297-3ec02c404614",
        "colab": {
          "base_uri": "https://localhost:8080/"
        }
      },
      "execution_count": null,
      "outputs": [
        {
          "output_type": "execute_result",
          "data": {
            "text/plain": [
              "(tensor([[[0.2083, 0.5544, 0.0235,  ..., 0.0255, 0.2264, 0.8554],\n",
              "          [0.7154, 0.4497, 0.8652,  ..., 0.1976, 0.6913, 0.0477],\n",
              "          [0.3410, 0.2645, 0.2643,  ..., 0.7539, 0.3852, 0.3994],\n",
              "          ...,\n",
              "          [0.3740, 0.6087, 0.9148,  ..., 0.2852, 0.9978, 0.2394],\n",
              "          [0.2072, 0.7692, 0.2481,  ..., 0.9850, 0.5139, 0.6141],\n",
              "          [0.6676, 0.8083, 0.4897,  ..., 0.3928, 0.4867, 0.1618]],\n",
              " \n",
              "         [[0.5349, 0.1469, 0.7264,  ..., 0.4193, 0.4755, 0.6715],\n",
              "          [0.8907, 0.8122, 0.7010,  ..., 0.5684, 0.2789, 0.9278],\n",
              "          [0.2383, 0.1990, 0.4346,  ..., 0.0397, 0.9458, 0.6042],\n",
              "          ...,\n",
              "          [0.8164, 0.9890, 0.6690,  ..., 0.7592, 0.5363, 0.2528],\n",
              "          [0.1825, 0.2637, 0.3557,  ..., 0.9001, 0.0925, 0.5120],\n",
              "          [0.6907, 0.4421, 0.5405,  ..., 0.9240, 0.2692, 0.4725]],\n",
              " \n",
              "         [[0.9901, 0.1445, 0.0886,  ..., 0.3110, 0.8724, 0.4751],\n",
              "          [0.5367, 0.8763, 0.4369,  ..., 0.5164, 0.9746, 0.6030],\n",
              "          [0.5169, 0.8421, 0.2067,  ..., 0.9281, 0.9595, 0.4872],\n",
              "          ...,\n",
              "          [0.2010, 0.5911, 0.1827,  ..., 0.8280, 0.4393, 0.9001],\n",
              "          [0.8349, 0.0766, 0.3861,  ..., 0.6904, 0.5351, 0.7365],\n",
              "          [0.6045, 0.8131, 0.8242,  ..., 0.7625, 0.3087, 0.1398]]]),\n",
              " torch.Size([3, 224, 224]))"
            ]
          },
          "metadata": {},
          "execution_count": 72
        }
      ]
    },
    {
      "cell_type": "code",
      "source": [
        "#Permute is like a view operation changes original tensor as well like following\n",
        "\n",
        "x_permute[0, 0, 0] = 777.\n",
        "x_permute"
      ],
      "metadata": {
        "id": "5qQz4AGYucSX",
        "outputId": "3572bfdf-f305-47b7-97eb-df6735fe11bb",
        "colab": {
          "base_uri": "https://localhost:8080/"
        }
      },
      "execution_count": null,
      "outputs": [
        {
          "output_type": "execute_result",
          "data": {
            "text/plain": [
              "tensor([[[7.7700e+02, 5.5439e-01, 2.3548e-02,  ..., 2.5474e-02,\n",
              "          2.2636e-01, 8.5540e-01],\n",
              "         [7.1542e-01, 4.4972e-01, 8.6521e-01,  ..., 1.9761e-01,\n",
              "          6.9133e-01, 4.7704e-02],\n",
              "         [3.4102e-01, 2.6449e-01, 2.6430e-01,  ..., 7.5387e-01,\n",
              "          3.8517e-01, 3.9942e-01],\n",
              "         ...,\n",
              "         [3.7404e-01, 6.0873e-01, 9.1483e-01,  ..., 2.8516e-01,\n",
              "          9.9784e-01, 2.3945e-01],\n",
              "         [2.0716e-01, 7.6919e-01, 2.4805e-01,  ..., 9.8501e-01,\n",
              "          5.1394e-01, 6.1411e-01],\n",
              "         [6.6760e-01, 8.0830e-01, 4.8974e-01,  ..., 3.9283e-01,\n",
              "          4.8671e-01, 1.6178e-01]],\n",
              "\n",
              "        [[5.3493e-01, 1.4688e-01, 7.2639e-01,  ..., 4.1929e-01,\n",
              "          4.7554e-01, 6.7146e-01],\n",
              "         [8.9074e-01, 8.1223e-01, 7.0103e-01,  ..., 5.6843e-01,\n",
              "          2.7893e-01, 9.2782e-01],\n",
              "         [2.3830e-01, 1.9901e-01, 4.3465e-01,  ..., 3.9711e-02,\n",
              "          9.4575e-01, 6.0425e-01],\n",
              "         ...,\n",
              "         [8.1644e-01, 9.8897e-01, 6.6895e-01,  ..., 7.5915e-01,\n",
              "          5.3626e-01, 2.5277e-01],\n",
              "         [1.8247e-01, 2.6368e-01, 3.5570e-01,  ..., 9.0014e-01,\n",
              "          9.2480e-02, 5.1200e-01],\n",
              "         [6.9066e-01, 4.4207e-01, 5.4046e-01,  ..., 9.2397e-01,\n",
              "          2.6921e-01, 4.7250e-01]],\n",
              "\n",
              "        [[9.9009e-01, 1.4454e-01, 8.8592e-02,  ..., 3.1103e-01,\n",
              "          8.7244e-01, 4.7508e-01],\n",
              "         [5.3672e-01, 8.7626e-01, 4.3688e-01,  ..., 5.1643e-01,\n",
              "          9.7457e-01, 6.0297e-01],\n",
              "         [5.1688e-01, 8.4206e-01, 2.0671e-01,  ..., 9.2814e-01,\n",
              "          9.5951e-01, 4.8722e-01],\n",
              "         ...,\n",
              "         [2.0098e-01, 5.9114e-01, 1.8270e-01,  ..., 8.2799e-01,\n",
              "          4.3932e-01, 9.0013e-01],\n",
              "         [8.3489e-01, 7.6561e-02, 3.8614e-01,  ..., 6.9039e-01,\n",
              "          5.3512e-01, 7.3648e-01],\n",
              "         [6.0445e-01, 8.1314e-01, 8.2422e-01,  ..., 7.6247e-01,\n",
              "          3.0870e-01, 1.3977e-01]]])"
            ]
          },
          "metadata": {},
          "execution_count": 73
        }
      ]
    },
    {
      "cell_type": "code",
      "source": [
        "x_original[0, 0, 0], x_permute[0, 0, 0]"
      ],
      "metadata": {
        "id": "zKVt4HwjutEP",
        "outputId": "2eac342b-996d-4510-da2f-fc806d804146",
        "colab": {
          "base_uri": "https://localhost:8080/"
        }
      },
      "execution_count": null,
      "outputs": [
        {
          "output_type": "execute_result",
          "data": {
            "text/plain": [
              "(tensor(777.), tensor(777.))"
            ]
          },
          "metadata": {},
          "execution_count": 74
        }
      ]
    },
    {
      "cell_type": "markdown",
      "source": [
        "**Indexing elements of Tensor**"
      ],
      "metadata": {
        "id": "b3RmKyKVAXrN"
      }
    },
    {
      "cell_type": "code",
      "source": [
        "x = torch.arange(1, 10).reshape(1, 3, 3)\n",
        "x"
      ],
      "metadata": {
        "id": "o6MF-_GNAftw",
        "outputId": "401e52b6-0374-4cfc-854c-1d157c6a38da",
        "colab": {
          "base_uri": "https://localhost:8080/"
        }
      },
      "execution_count": null,
      "outputs": [
        {
          "output_type": "execute_result",
          "data": {
            "text/plain": [
              "tensor([[[1, 2, 3],\n",
              "         [4, 5, 6],\n",
              "         [7, 8, 9]]])"
            ]
          },
          "metadata": {},
          "execution_count": 75
        }
      ]
    },
    {
      "cell_type": "code",
      "source": [
        "x[0][0][1]"
      ],
      "metadata": {
        "id": "7z6dul3xAr5J",
        "outputId": "38dfb5b1-ee73-4031-d17d-eec109258f4d",
        "colab": {
          "base_uri": "https://localhost:8080/"
        }
      },
      "execution_count": null,
      "outputs": [
        {
          "output_type": "execute_result",
          "data": {
            "text/plain": [
              "tensor(2)"
            ]
          },
          "metadata": {},
          "execution_count": 76
        }
      ]
    },
    {
      "cell_type": "code",
      "source": [
        "x[0][2][2]"
      ],
      "metadata": {
        "id": "gpUzgm4JAzox",
        "outputId": "69e5c3ac-0581-4f4c-9d8f-d8f120ca83cf",
        "colab": {
          "base_uri": "https://localhost:8080/"
        }
      },
      "execution_count": null,
      "outputs": [
        {
          "output_type": "execute_result",
          "data": {
            "text/plain": [
              "tensor(9)"
            ]
          },
          "metadata": {},
          "execution_count": 77
        }
      ]
    },
    {
      "cell_type": "code",
      "source": [
        "x[:, :, 1]"
      ],
      "metadata": {
        "id": "vD7Rij6XA6uh",
        "outputId": "4ee7e2ca-b8ea-4f2c-e0fc-ccfa4ee3969b",
        "colab": {
          "base_uri": "https://localhost:8080/"
        }
      },
      "execution_count": null,
      "outputs": [
        {
          "output_type": "execute_result",
          "data": {
            "text/plain": [
              "tensor([[2, 5, 8]])"
            ]
          },
          "metadata": {},
          "execution_count": 78
        }
      ]
    },
    {
      "cell_type": "code",
      "source": [
        "x[:, :, 2]"
      ],
      "metadata": {
        "id": "voSXYUDgBHmQ",
        "outputId": "4cd3c52b-bb19-4279-be32-ef0228ba2a37",
        "colab": {
          "base_uri": "https://localhost:8080/"
        }
      },
      "execution_count": null,
      "outputs": [
        {
          "output_type": "execute_result",
          "data": {
            "text/plain": [
              "tensor([[3, 6, 9]])"
            ]
          },
          "metadata": {},
          "execution_count": 79
        }
      ]
    },
    {
      "cell_type": "code",
      "source": [
        "x[0, 1, :]"
      ],
      "metadata": {
        "id": "jireA4mhBSTf",
        "outputId": "f4963123-a67e-410b-9f96-fd93f2a0f7df",
        "colab": {
          "base_uri": "https://localhost:8080/"
        }
      },
      "execution_count": null,
      "outputs": [
        {
          "output_type": "execute_result",
          "data": {
            "text/plain": [
              "tensor([4, 5, 6])"
            ]
          },
          "metadata": {},
          "execution_count": 80
        }
      ]
    },
    {
      "cell_type": "code",
      "source": [
        "x[0][0]"
      ],
      "metadata": {
        "id": "6kA0eWgeBk_g",
        "outputId": "4bd41646-5fbc-4e26-ded4-17162707b9a1",
        "colab": {
          "base_uri": "https://localhost:8080/"
        }
      },
      "execution_count": null,
      "outputs": [
        {
          "output_type": "execute_result",
          "data": {
            "text/plain": [
              "tensor([1, 2, 3])"
            ]
          },
          "metadata": {},
          "execution_count": 81
        }
      ]
    },
    {
      "cell_type": "code",
      "source": [
        "x[0][1][1]"
      ],
      "metadata": {
        "id": "eIRMbLjUBuaP",
        "outputId": "a1f03e2e-7cf2-4c66-95d7-746d3e64caa0",
        "colab": {
          "base_uri": "https://localhost:8080/"
        }
      },
      "execution_count": null,
      "outputs": [
        {
          "output_type": "execute_result",
          "data": {
            "text/plain": [
              "tensor(5)"
            ]
          },
          "metadata": {},
          "execution_count": 82
        }
      ]
    },
    {
      "cell_type": "code",
      "source": [
        "x[:, 0]"
      ],
      "metadata": {
        "id": "SvFKwGu_Bye5",
        "outputId": "04d40ef7-d783-40ce-c37b-fe58b5a8c79d",
        "colab": {
          "base_uri": "https://localhost:8080/"
        }
      },
      "execution_count": null,
      "outputs": [
        {
          "output_type": "execute_result",
          "data": {
            "text/plain": [
              "tensor([[1, 2, 3]])"
            ]
          },
          "metadata": {},
          "execution_count": 83
        }
      ]
    },
    {
      "cell_type": "code",
      "source": [
        "# index on x to return 9 and 3, 6, 9\n",
        "\n",
        "x[0][2][2]"
      ],
      "metadata": {
        "id": "kWqyv2owCiYm",
        "outputId": "f38d1a73-6b31-42c9-d46f-542da2e6d066",
        "colab": {
          "base_uri": "https://localhost:8080/"
        }
      },
      "execution_count": null,
      "outputs": [
        {
          "output_type": "execute_result",
          "data": {
            "text/plain": [
              "tensor(9)"
            ]
          },
          "metadata": {},
          "execution_count": 84
        }
      ]
    },
    {
      "cell_type": "code",
      "source": [
        "x[0, :, 2]"
      ],
      "metadata": {
        "id": "zL8MdIExCvE2",
        "outputId": "dcb9935a-f615-450a-d9cf-670503b83843",
        "colab": {
          "base_uri": "https://localhost:8080/"
        }
      },
      "execution_count": null,
      "outputs": [
        {
          "output_type": "execute_result",
          "data": {
            "text/plain": [
              "tensor([3, 6, 9])"
            ]
          },
          "metadata": {},
          "execution_count": 85
        }
      ]
    },
    {
      "cell_type": "markdown",
      "source": [
        "**NumPy arrays and PyTorch Tensors Conversions**"
      ],
      "metadata": {
        "id": "63w45kl3UZAD"
      }
    },
    {
      "cell_type": "code",
      "source": [
        "import torch\n",
        "import numpy as np\n",
        "numpy_array = np.arange(1., 9.)\n",
        "numpy_array, numpy_array.dtype"
      ],
      "metadata": {
        "id": "eEuGinFPUhWD",
        "outputId": "3e3049e1-145d-4068-ef2e-0c2ff64198f9",
        "colab": {
          "base_uri": "https://localhost:8080/"
        }
      },
      "execution_count": null,
      "outputs": [
        {
          "output_type": "execute_result",
          "data": {
            "text/plain": [
              "(array([1., 2., 3., 4., 5., 6., 7., 8.]), dtype('float64'))"
            ]
          },
          "metadata": {},
          "execution_count": 86
        }
      ]
    },
    {
      "cell_type": "code",
      "source": [
        "tensor = torch.from_numpy(numpy_array)\n",
        "tensor, numpy_array"
      ],
      "metadata": {
        "id": "mRtgKOyLVAAT",
        "outputId": "cecbb3d5-6b45-4b15-92ad-c7724f05f2be",
        "colab": {
          "base_uri": "https://localhost:8080/"
        }
      },
      "execution_count": null,
      "outputs": [
        {
          "output_type": "execute_result",
          "data": {
            "text/plain": [
              "(tensor([1., 2., 3., 4., 5., 6., 7., 8.], dtype=torch.float64),\n",
              " array([1., 2., 3., 4., 5., 6., 7., 8.]))"
            ]
          },
          "metadata": {},
          "execution_count": 87
        }
      ]
    },
    {
      "cell_type": "code",
      "source": [
        "tensor.dtype"
      ],
      "metadata": {
        "id": "u7X6VBZDVj4i",
        "outputId": "202d68e4-6a4c-4a65-d4f4-811b386bfb03",
        "colab": {
          "base_uri": "https://localhost:8080/"
        }
      },
      "execution_count": null,
      "outputs": [
        {
          "output_type": "execute_result",
          "data": {
            "text/plain": [
              "torch.float64"
            ]
          },
          "metadata": {},
          "execution_count": 88
        }
      ]
    },
    {
      "cell_type": "code",
      "source": [
        "numpy_array = numpy_array + 1\n",
        "numpy_array, tensor"
      ],
      "metadata": {
        "id": "-nwEkpvlVtgy",
        "outputId": "e9264e28-595e-4cfb-8c1f-7af1aa6464b6",
        "colab": {
          "base_uri": "https://localhost:8080/"
        }
      },
      "execution_count": null,
      "outputs": [
        {
          "output_type": "execute_result",
          "data": {
            "text/plain": [
              "(array([2., 3., 4., 5., 6., 7., 8., 9.]),\n",
              " tensor([1., 2., 3., 4., 5., 6., 7., 8.], dtype=torch.float64))"
            ]
          },
          "metadata": {},
          "execution_count": 89
        }
      ]
    },
    {
      "cell_type": "code",
      "source": [
        "#Tensor to array\n",
        "tensor_ones = torch.ones(7)\n",
        "tensor_ones.dtype"
      ],
      "metadata": {
        "id": "5xqb6ZCuXu9Y",
        "outputId": "d7e1bc8c-a6aa-415e-cdea-d7dd74e8c6b9",
        "colab": {
          "base_uri": "https://localhost:8080/"
        }
      },
      "execution_count": null,
      "outputs": [
        {
          "output_type": "execute_result",
          "data": {
            "text/plain": [
              "torch.float32"
            ]
          },
          "metadata": {},
          "execution_count": 90
        }
      ]
    },
    {
      "cell_type": "code",
      "source": [
        "ones_array = tensor_ones.numpy()\n",
        "ones_array, tensor_ones, ones_array.dtype, tensor_ones.dtype"
      ],
      "metadata": {
        "id": "N2V_4JFKYUJ8",
        "outputId": "0f4a22dd-cad5-439b-9489-8e2126915a7d",
        "colab": {
          "base_uri": "https://localhost:8080/"
        }
      },
      "execution_count": null,
      "outputs": [
        {
          "output_type": "execute_result",
          "data": {
            "text/plain": [
              "(array([1., 1., 1., 1., 1., 1., 1.], dtype=float32),\n",
              " tensor([1., 1., 1., 1., 1., 1., 1.]),\n",
              " dtype('float32'),\n",
              " torch.float32)"
            ]
          },
          "metadata": {},
          "execution_count": 91
        }
      ]
    },
    {
      "cell_type": "code",
      "source": [
        "tensor_ones = tensor_ones + 1\n",
        "tensor_ones, ones_array"
      ],
      "metadata": {
        "id": "-26dSPKXYxir",
        "outputId": "a8067754-6679-44bd-bec9-e31e101f0f92",
        "colab": {
          "base_uri": "https://localhost:8080/"
        }
      },
      "execution_count": null,
      "outputs": [
        {
          "output_type": "execute_result",
          "data": {
            "text/plain": [
              "(tensor([2., 2., 2., 2., 2., 2., 2.]),\n",
              " array([1., 1., 1., 1., 1., 1., 1.], dtype=float32))"
            ]
          },
          "metadata": {},
          "execution_count": 92
        }
      ]
    },
    {
      "cell_type": "markdown",
      "source": [
        "**Reproducibility**"
      ],
      "metadata": {
        "id": "ydWbB48Otrn-"
      }
    },
    {
      "cell_type": "code",
      "source": [
        "torch.rand(3, 4)\n"
      ],
      "metadata": {
        "id": "Hct6M16Qt1kR",
        "outputId": "7e5bdc12-a417-43c7-d343-f17d7aa191b1",
        "colab": {
          "base_uri": "https://localhost:8080/"
        }
      },
      "execution_count": null,
      "outputs": [
        {
          "output_type": "execute_result",
          "data": {
            "text/plain": [
              "tensor([[0.2374, 0.2053, 0.3153, 0.5810],\n",
              "        [0.0098, 0.8161, 0.6360, 0.2988],\n",
              "        [0.0855, 0.0884, 0.2603, 0.6141]])"
            ]
          },
          "metadata": {},
          "execution_count": 93
        }
      ]
    },
    {
      "cell_type": "code",
      "source": [
        "random_tensor_A = torch.rand(3, 4)\n",
        "random_tensor_B = torch.rand(3, 4)\n",
        "\n",
        "print(random_tensor_A)\n",
        "print(random_tensor_B)\n",
        "print(random_tensor_A == random_tensor_B)"
      ],
      "metadata": {
        "id": "yi5P8EMyuAws",
        "outputId": "5470c362-4e6f-49b1-8df0-05af3d97e45e",
        "colab": {
          "base_uri": "https://localhost:8080/"
        }
      },
      "execution_count": null,
      "outputs": [
        {
          "output_type": "stream",
          "name": "stdout",
          "text": [
            "tensor([[0.2444, 0.2621, 0.7325, 0.7517],\n",
            "        [0.5437, 0.7035, 0.0753, 0.3698],\n",
            "        [0.0381, 0.7021, 0.9082, 0.5862]])\n",
            "tensor([[0.0788, 0.6400, 0.7175, 0.9092],\n",
            "        [0.6343, 0.7691, 0.4536, 0.9397],\n",
            "        [0.7640, 0.3179, 0.4713, 0.5748]])\n",
            "tensor([[False, False, False, False],\n",
            "        [False, False, False, False],\n",
            "        [False, False, False, False]])\n"
          ]
        }
      ]
    },
    {
      "cell_type": "code",
      "source": [
        "#Reproducible data Seed lets us reproduce random behaviour if we suppose share notebook\n",
        "import torch\n",
        "RANDOM_SEED = 42\n",
        "\n",
        "torch.manual_seed(RANDOM_SEED)\n",
        "random_tensor_C = torch.rand(3, 4)\n",
        "\n",
        "torch.manual_seed(RANDOM_SEED)\n",
        "random_tensor_D = torch.rand(3, 4)\n",
        "\n",
        "print(random_tensor_C)\n",
        "print(random_tensor_D)\n",
        "\n",
        "print(random_tensor_C == random_tensor_D)\n"
      ],
      "metadata": {
        "id": "PshRVi3Yublb",
        "outputId": "db06695d-a2ac-4937-a618-f280779456ef",
        "colab": {
          "base_uri": "https://localhost:8080/"
        }
      },
      "execution_count": null,
      "outputs": [
        {
          "output_type": "stream",
          "name": "stdout",
          "text": [
            "tensor([[0.8823, 0.9150, 0.3829, 0.9593],\n",
            "        [0.3904, 0.6009, 0.2566, 0.7936],\n",
            "        [0.9408, 0.1332, 0.9346, 0.5936]])\n",
            "tensor([[0.8823, 0.9150, 0.3829, 0.9593],\n",
            "        [0.3904, 0.6009, 0.2566, 0.7936],\n",
            "        [0.9408, 0.1332, 0.9346, 0.5936]])\n",
            "tensor([[True, True, True, True],\n",
            "        [True, True, True, True],\n",
            "        [True, True, True, True]])\n"
          ]
        }
      ]
    },
    {
      "cell_type": "code",
      "source": [
        "!nvidia-smi"
      ],
      "metadata": {
        "id": "tPFWucdg3q4m",
        "outputId": "8195b34f-d81c-48fc-9de0-989fd0f204f9",
        "colab": {
          "base_uri": "https://localhost:8080/"
        }
      },
      "execution_count": null,
      "outputs": [
        {
          "output_type": "stream",
          "name": "stdout",
          "text": [
            "Tue Apr 30 02:52:02 2024       \n",
            "+---------------------------------------------------------------------------------------+\n",
            "| NVIDIA-SMI 535.104.05             Driver Version: 535.104.05   CUDA Version: 12.2     |\n",
            "|-----------------------------------------+----------------------+----------------------+\n",
            "| GPU  Name                 Persistence-M | Bus-Id        Disp.A | Volatile Uncorr. ECC |\n",
            "| Fan  Temp   Perf          Pwr:Usage/Cap |         Memory-Usage | GPU-Util  Compute M. |\n",
            "|                                         |                      |               MIG M. |\n",
            "|=========================================+======================+======================|\n",
            "|   0  Tesla T4                       Off | 00000000:00:04.0 Off |                    0 |\n",
            "| N/A   53C    P8              10W /  70W |      0MiB / 15360MiB |      0%      Default |\n",
            "|                                         |                      |                  N/A |\n",
            "+-----------------------------------------+----------------------+----------------------+\n",
            "                                                                                         \n",
            "+---------------------------------------------------------------------------------------+\n",
            "| Processes:                                                                            |\n",
            "|  GPU   GI   CI        PID   Type   Process name                            GPU Memory |\n",
            "|        ID   ID                                                             Usage      |\n",
            "|=======================================================================================|\n",
            "|  No running processes found                                                           |\n",
            "+---------------------------------------------------------------------------------------+\n"
          ]
        }
      ]
    },
    {
      "cell_type": "code",
      "source": [
        "import torch\n",
        "torch.cuda.is_available()"
      ],
      "metadata": {
        "id": "o1nXLyHc4x1b",
        "outputId": "92f4d9d7-cd0c-477d-87ae-07e8cf5ad0a4",
        "colab": {
          "base_uri": "https://localhost:8080/"
        }
      },
      "execution_count": null,
      "outputs": [
        {
          "output_type": "execute_result",
          "data": {
            "text/plain": [
              "True"
            ]
          },
          "metadata": {},
          "execution_count": 97
        }
      ]
    },
    {
      "cell_type": "code",
      "source": [
        "device = \"cuda\" if torch.cuda.is_available() else \"cpu\"\n",
        "device"
      ],
      "metadata": {
        "id": "lYHcyXOw5rka",
        "outputId": "c9716aaf-3f5c-4733-9c4d-a371443209d1",
        "colab": {
          "base_uri": "https://localhost:8080/"
        }
      },
      "execution_count": null,
      "outputs": [
        {
          "output_type": "execute_result",
          "data": {
            "text/plain": [
              "'cuda'"
            ],
            "application/vnd.google.colaboratory.intrinsic+json": {
              "type": "string"
            }
          },
          "metadata": {},
          "execution_count": 98
        }
      ]
    },
    {
      "cell_type": "code",
      "source": [
        "torch.cuda.device_count()"
      ],
      "metadata": {
        "id": "OmPJ_rpz52WS",
        "outputId": "d09af4f2-a1f2-4c41-a47e-6fc6832c3963",
        "colab": {
          "base_uri": "https://localhost:8080/"
        }
      },
      "execution_count": null,
      "outputs": [
        {
          "output_type": "execute_result",
          "data": {
            "text/plain": [
              "1"
            ]
          },
          "metadata": {},
          "execution_count": 99
        }
      ]
    },
    {
      "cell_type": "markdown",
      "source": [
        "**Running Tensor on GPU**"
      ],
      "metadata": {
        "id": "WxUqFqOL7wRP"
      }
    },
    {
      "cell_type": "code",
      "source": [
        "device"
      ],
      "metadata": {
        "id": "ZlQWvxdQ7zPd",
        "outputId": "8b7945ea-8506-4cef-dc80-af4dbeccb378",
        "colab": {
          "base_uri": "https://localhost:8080/"
        }
      },
      "execution_count": null,
      "outputs": [
        {
          "output_type": "execute_result",
          "data": {
            "text/plain": [
              "'cuda'"
            ],
            "application/vnd.google.colaboratory.intrinsic+json": {
              "type": "string"
            }
          },
          "metadata": {},
          "execution_count": 100
        }
      ]
    },
    {
      "cell_type": "code",
      "source": [
        "tensor = torch.tensor([1, 2, 3], device = \"cpu\")\n",
        "tensor, tensor.device"
      ],
      "metadata": {
        "id": "Um_jJukP74UN",
        "outputId": "8f00f8f9-3c6e-4651-8848-0a22bb4bd386",
        "colab": {
          "base_uri": "https://localhost:8080/"
        }
      },
      "execution_count": null,
      "outputs": [
        {
          "output_type": "execute_result",
          "data": {
            "text/plain": [
              "(tensor([1, 2, 3]), device(type='cpu'))"
            ]
          },
          "metadata": {},
          "execution_count": 101
        }
      ]
    },
    {
      "cell_type": "code",
      "source": [
        "tensor_on_gpu = tensor.to(device)\n",
        "tensor_on_gpu.device , tensor_on_gpu"
      ],
      "metadata": {
        "id": "PTvD1Ecv8F92",
        "outputId": "3cb1a4ea-6dde-44ec-8c10-c4b401f66e43",
        "colab": {
          "base_uri": "https://localhost:8080/"
        }
      },
      "execution_count": null,
      "outputs": [
        {
          "output_type": "execute_result",
          "data": {
            "text/plain": [
              "(device(type='cuda', index=0), tensor([1, 2, 3], device='cuda:0'))"
            ]
          },
          "metadata": {},
          "execution_count": 102
        }
      ]
    },
    {
      "cell_type": "code",
      "source": [
        "tensor.device"
      ],
      "metadata": {
        "id": "HWANebFm9XLT",
        "outputId": "e06ca6fa-e4f5-4379-eca3-42f42783891d",
        "colab": {
          "base_uri": "https://localhost:8080/"
        }
      },
      "execution_count": null,
      "outputs": [
        {
          "output_type": "execute_result",
          "data": {
            "text/plain": [
              "device(type='cpu')"
            ]
          },
          "metadata": {},
          "execution_count": 103
        }
      ]
    },
    {
      "cell_type": "code",
      "source": [
        "tensor_on_gpu.device"
      ],
      "metadata": {
        "id": "2S_GWqE39bwk",
        "outputId": "71242301-d84d-4437-8203-c1ad878c33b3",
        "colab": {
          "base_uri": "https://localhost:8080/"
        }
      },
      "execution_count": null,
      "outputs": [
        {
          "output_type": "execute_result",
          "data": {
            "text/plain": [
              "device(type='cuda', index=0)"
            ]
          },
          "metadata": {},
          "execution_count": 104
        }
      ]
    },
    {
      "cell_type": "code",
      "source": [
        "tensor_on_cpu = tensor_on_gpu.cpu().numpy()\n",
        "tensor_on_cpu"
      ],
      "metadata": {
        "id": "TYhm41M_-OST",
        "outputId": "5ac350be-cdef-4c64-cfbf-564ef2e00b8d",
        "colab": {
          "base_uri": "https://localhost:8080/"
        }
      },
      "execution_count": null,
      "outputs": [
        {
          "output_type": "execute_result",
          "data": {
            "text/plain": [
              "array([1, 2, 3])"
            ]
          },
          "metadata": {},
          "execution_count": 105
        }
      ]
    },
    {
      "cell_type": "code",
      "source": [
        "import torch\n",
        "torch.cuda.is_available()"
      ],
      "metadata": {
        "id": "ZxQFdlcdFiUX",
        "outputId": "b4a8aa5a-9ee2-45a0-cc23-ad1f3252b84b",
        "colab": {
          "base_uri": "https://localhost:8080/"
        }
      },
      "execution_count": null,
      "outputs": [
        {
          "output_type": "execute_result",
          "data": {
            "text/plain": [
              "True"
            ]
          },
          "metadata": {},
          "execution_count": 106
        }
      ]
    },
    {
      "cell_type": "code",
      "source": [
        "device = \"cuda\" if torch.cuda.is_available() else \"cpu\""
      ],
      "metadata": {
        "id": "2AoQ1m6VF5Vd"
      },
      "execution_count": null,
      "outputs": []
    },
    {
      "cell_type": "code",
      "source": [
        "t1 = torch.tensor([1, 2, 3])\n",
        "t1, t1.device"
      ],
      "metadata": {
        "id": "KBz7faRaGBVM",
        "outputId": "a094b18b-4713-44fb-c337-10c78391b2de",
        "colab": {
          "base_uri": "https://localhost:8080/"
        }
      },
      "execution_count": null,
      "outputs": [
        {
          "output_type": "execute_result",
          "data": {
            "text/plain": [
              "(tensor([1, 2, 3]), device(type='cpu'))"
            ]
          },
          "metadata": {},
          "execution_count": 108
        }
      ]
    },
    {
      "cell_type": "code",
      "source": [
        "t2 = t1.to(device)\n",
        "t2, t2.device\n"
      ],
      "metadata": {
        "id": "-hVwP77SGL2I",
        "outputId": "23fe8caf-038d-4bdf-fb0f-17f9f824f04f",
        "colab": {
          "base_uri": "https://localhost:8080/"
        }
      },
      "execution_count": null,
      "outputs": [
        {
          "output_type": "execute_result",
          "data": {
            "text/plain": [
              "(tensor([1, 2, 3], device='cuda:0'), device(type='cuda', index=0))"
            ]
          },
          "metadata": {},
          "execution_count": 109
        }
      ]
    },
    {
      "cell_type": "code",
      "source": [
        "t0 = t2.cpu().numpy()\n",
        "t0"
      ],
      "metadata": {
        "id": "SWM8AYKJHmxq",
        "outputId": "05d994ea-8960-4d58-e9cc-2e3b1b1f9967",
        "colab": {
          "base_uri": "https://localhost:8080/"
        }
      },
      "execution_count": null,
      "outputs": [
        {
          "output_type": "execute_result",
          "data": {
            "text/plain": [
              "array([1, 2, 3])"
            ]
          },
          "metadata": {},
          "execution_count": 110
        }
      ]
    },
    {
      "cell_type": "code",
      "source": [
        "torch.cuda.device_count()"
      ],
      "metadata": {
        "id": "f9-VF2iJH4dZ",
        "outputId": "ee97510a-477d-4fd2-c0b2-4cfefccf146c",
        "colab": {
          "base_uri": "https://localhost:8080/"
        }
      },
      "execution_count": null,
      "outputs": [
        {
          "output_type": "execute_result",
          "data": {
            "text/plain": [
              "1"
            ]
          },
          "metadata": {},
          "execution_count": 111
        }
      ]
    }
  ]
}