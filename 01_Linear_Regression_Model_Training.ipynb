{
  "nbformat": 4,
  "nbformat_minor": 0,
  "metadata": {
    "colab": {
      "provenance": []
    },
    "kernelspec": {
      "name": "python3",
      "display_name": "Python 3"
    },
    "language_info": {
      "name": "python"
    }
  },
  "cells": [
    {
      "cell_type": "markdown",
      "source": [
        "# PyTorch Workflow\n",
        "**end to end**"
      ],
      "metadata": {
        "id": "GUl9GJMuEMmW"
      }
    },
    {
      "cell_type": "code",
      "source": [
        "what_we_will_do = {1: \"Data get and load\",\n",
        "                   2: \"Build a model\",\n",
        "                   3: \"Fit model to data (Training)\",\n",
        "                   4: \"Make predictions\",\n",
        "                   5: \"Save and load model\"}"
      ],
      "metadata": {
        "id": "_GcvfoY5GzgH"
      },
      "execution_count": null,
      "outputs": []
    },
    {
      "cell_type": "code",
      "source": [
        "import torch\n",
        "from torch import nn # nn contains pytorch's building blocks for making neural network\n",
        "import matplotlib.pyplot as plt\n",
        "\n",
        "\n",
        "torch.__version__"
      ],
      "metadata": {
        "colab": {
          "base_uri": "https://localhost:8080/",
          "height": 35
        },
        "id": "B30yHrjOHXhP",
        "outputId": "d227d47f-4ed5-4218-c840-e3b277cdbeed"
      },
      "execution_count": null,
      "outputs": [
        {
          "output_type": "execute_result",
          "data": {
            "text/plain": [
              "'2.3.0+cu121'"
            ],
            "application/vnd.google.colaboratory.intrinsic+json": {
              "type": "string"
            }
          },
          "metadata": {},
          "execution_count": 2
        }
      ]
    },
    {
      "cell_type": "markdown",
      "source": [
        "# Data Preparing and Loading\n",
        "* Data can be anything in machine learning\n",
        "* Turning data into numbers or numerical representation\n",
        "* Building a model to find pattern in those numbers or representations"
      ],
      "metadata": {
        "id": "zBmLMbu4jh1a"
      }
    },
    {
      "cell_type": "markdown",
      "source": [
        "#Linear Regression\n",
        "#weight, bias       \n",
        "#Y = bias + weightX"
      ],
      "metadata": {
        "id": "N82BA231qM21"
      }
    },
    {
      "cell_type": "code",
      "source": [
        "import torch\n",
        "\n",
        "weight = 0.7 # We know these numbers weight and bias. We want to estimate these numbers. How? using following\n",
        "bias = 0.3\n",
        "\n",
        "start = 0\n",
        "end = 1\n",
        "step = 0.02\n",
        "X = torch.arange(start, end, step).unsqueeze(dim=1) # Giving a x sample values to generate y\n",
        "\n",
        "# Linear Regression\n",
        "y = weight * X + bias\n",
        "X[:10], y[:10], len(X), len(y)"
      ],
      "metadata": {
        "colab": {
          "base_uri": "https://localhost:8080/"
        },
        "id": "fg7pucxMooBf",
        "outputId": "4cafc038-1cb2-4348-c520-c604a2b7bc20"
      },
      "execution_count": null,
      "outputs": [
        {
          "output_type": "execute_result",
          "data": {
            "text/plain": [
              "(tensor([[0.0000],\n",
              "         [0.0200],\n",
              "         [0.0400],\n",
              "         [0.0600],\n",
              "         [0.0800],\n",
              "         [0.1000],\n",
              "         [0.1200],\n",
              "         [0.1400],\n",
              "         [0.1600],\n",
              "         [0.1800]]),\n",
              " tensor([[0.3000],\n",
              "         [0.3140],\n",
              "         [0.3280],\n",
              "         [0.3420],\n",
              "         [0.3560],\n",
              "         [0.3700],\n",
              "         [0.3840],\n",
              "         [0.3980],\n",
              "         [0.4120],\n",
              "         [0.4260]]),\n",
              " 50,\n",
              " 50)"
            ]
          },
          "metadata": {},
          "execution_count": 3
        }
      ]
    },
    {
      "cell_type": "markdown",
      "source": [
        "# Splitting Data Into Training Data and Test Data\n",
        "* There are three types of data sets. Training, Validation and Testing\n",
        "* Usually 80 - 20 ratio is used for Training and testing\n"
      ],
      "metadata": {
        "id": "AxSoxDtmQQHC"
      }
    },
    {
      "cell_type": "code",
      "source": [
        "train_split = int(0.8 * len(X))\n",
        "train_split"
      ],
      "metadata": {
        "colab": {
          "base_uri": "https://localhost:8080/"
        },
        "id": "MJXXrEp4QpRn",
        "outputId": "537346eb-a840-4d8b-d945-4dbcc16df9d9"
      },
      "execution_count": null,
      "outputs": [
        {
          "output_type": "execute_result",
          "data": {
            "text/plain": [
              "40"
            ]
          },
          "metadata": {},
          "execution_count": 4
        }
      ]
    },
    {
      "cell_type": "code",
      "source": [
        "X_train, y_train = X[:train_split], y[:train_split] # Training features and training labels\n",
        "len(X_train), len(y_train)\n",
        "\n"
      ],
      "metadata": {
        "colab": {
          "base_uri": "https://localhost:8080/"
        },
        "id": "wzrjOYrmRa3n",
        "outputId": "49b825c4-d03f-4ff3-f0d5-4eba68f43fad"
      },
      "execution_count": null,
      "outputs": [
        {
          "output_type": "execute_result",
          "data": {
            "text/plain": [
              "(40, 40)"
            ]
          },
          "metadata": {},
          "execution_count": 5
        }
      ]
    },
    {
      "cell_type": "code",
      "source": [
        "X_test, y_test = X[train_split:], y[train_split:] # Testing features and testing labels\n",
        "len(X_test), len(y_test)"
      ],
      "metadata": {
        "colab": {
          "base_uri": "https://localhost:8080/"
        },
        "id": "_t3srP_ySnP1",
        "outputId": "b7f6933b-6392-4a8f-b399-e7fd8f840141"
      },
      "execution_count": null,
      "outputs": [
        {
          "output_type": "execute_result",
          "data": {
            "text/plain": [
              "(10, 10)"
            ]
          },
          "metadata": {},
          "execution_count": 6
        }
      ]
    },
    {
      "cell_type": "markdown",
      "source": [
        "# Data Visualizing\n",
        "* Training data comparison against training labels\n",
        "* Test data comparison against test labels\n",
        "* Test data comparison against predictions that our model will make"
      ],
      "metadata": {
        "id": "aTpYnuLg7dXo"
      }
    },
    {
      "cell_type": "code",
      "source": [
        "def plot_predictions(training_data = X_train, training_labels = y_train,\n",
        "                     testing_data = X_test, testing_labels = y_test, predictions = None):\n",
        "\n",
        "  \"\"\" Plot predictions \"\"\"\n",
        "\n",
        "  plt.figure(figsize=(10, 7))\n",
        "\n",
        "  #Plot training data and labels\n",
        "  plt.scatter(training_data, training_labels, c = \"b\", s = 4, label = \"Training data\")\n",
        "  plt.scatter(testing_data, testing_labels, c = \"g\", s = 4, label = \"Test data\")\n",
        "\n",
        "  # Compare test data against predictions\n",
        "  if predictions is not None:\n",
        "    plt.scatter(testing_data, predictions, c = \"r\", s = 4, label = \"Predictions\")\n",
        "\n",
        "  plt.legend(prop = {\"size\" : 14})\n",
        "\n",
        "plot_predictions()"
      ],
      "metadata": {
        "colab": {
          "base_uri": "https://localhost:8080/",
          "height": 599
        },
        "id": "USeNv0eO7ihH",
        "outputId": "24b91f66-49ca-4f6d-b0f2-b4423e07fbfd"
      },
      "execution_count": null,
      "outputs": [
        {
          "output_type": "display_data",
          "data": {
            "text/plain": [
              "<Figure size 1000x700 with 1 Axes>"
            ],
            "image/png": "[encoded data removed]"
          },
          "metadata": {}
        }
      ]
    },
    {
      "cell_type": "markdown",
      "source": [
        "# Building Our Model NN MODULE\n",
        "# Linear Regression Model"
      ],
      "metadata": {
        "id": "1BhaEVuLW2DQ"
      }
    },
    {
      "cell_type": "markdown",
      "source": [
        "# What following model basically does it that it initialize with random weight and bias values.\n",
        "# Through computational part ot the code i.e. forward method. we feed training data x to the model.\n",
        "# Since gradient descent is enabled on parameters with the help of training data our model readjusts the weight and bias values\n",
        "# so that the weight and bias values gets as close to the values that were used to create training data.\n",
        "# In other words learn them"
      ],
      "metadata": {
        "id": "Gc4OZDJlY8_r"
      }
    },
    {
      "cell_type": "code",
      "source": [
        "from torch import nn\n",
        "class LinearRegressionModel(nn.Module):\n",
        "  def __init__(self):\n",
        "    super().__init__()\n",
        "    self.weights = nn.Parameter(torch.randn(1, requires_grad = True, dtype = torch.float))\n",
        "    self.bias = nn.Parameter(torch.randn(1, requires_grad = True, dtype = torch.float))\n",
        "\n",
        "  def forward(self, x : torch.Tensor) -> torch.Tensor:\n",
        "    return self.weights * x + self.bias\n",
        "\n",
        "\n"
      ],
      "metadata": {
        "id": "E_hCe_IfW9Tn"
      },
      "execution_count": null,
      "outputs": []
    },
    {
      "cell_type": "markdown",
      "source": [
        "# What is inside our model. Knowing through parameters()  and state_dict()\n"
      ],
      "metadata": {
        "id": "dVz8pMVs8f3h"
      }
    },
    {
      "cell_type": "code",
      "source": [
        "# Lets create a random seed for reproducibility\n",
        "torch.manual_seed(42)\n",
        "\n",
        "# Creating an instance of our model. Recall that it inherits from nn.Module superclass of all CNNs in pytorch\n",
        "model_0 = LinearRegressionModel()\n",
        "\n",
        "#Accessing the parameters\n",
        "list(model_0.parameters())\n",
        "\n",
        "#Using state_dict\n",
        "model_0.state_dict()\n",
        "\n"
      ],
      "metadata": {
        "colab": {
          "base_uri": "https://localhost:8080/"
        },
        "id": "TzCLUP5d8sEg",
        "outputId": "b660b1e5-d2f0-4929-d27e-8f74a5ab8851"
      },
      "execution_count": null,
      "outputs": [
        {
          "output_type": "execute_result",
          "data": {
            "text/plain": [
              "OrderedDict([('weights', tensor([0.3367])), ('bias', tensor([0.1288]))])"
            ]
          },
          "metadata": {},
          "execution_count": 9
        }
      ]
    },
    {
      "cell_type": "code",
      "source": [
        "# Ideal values of weight and bias\n",
        "weight, bias"
      ],
      "metadata": {
        "colab": {
          "base_uri": "https://localhost:8080/"
        },
        "id": "2aYmybs79edY",
        "outputId": "e97b7d77-8d7c-48bb-c0c6-cbc3fc10a304"
      },
      "execution_count": null,
      "outputs": [
        {
          "output_type": "execute_result",
          "data": {
            "text/plain": [
              "(0.7, 0.3)"
            ]
          },
          "metadata": {},
          "execution_count": 10
        }
      ]
    },
    {
      "cell_type": "markdown",
      "source": [
        "#Goal is to train model using training data through x, so that the model's parameters/weight & bias after training\n",
        "#session gets as close as possible to ideal values in our case 0.7 and 0.3. Note in many cases ideal values are not known\n",
        "#Also remember we start from random parameters initially and adjust them to reach ideal values.\n",
        "#This achieving of parameters to ideal values is done using optimizers (GD, BP) hence we set GD value = TRUE in above model"
      ],
      "metadata": {
        "id": "AO25g0Uz9kZY"
      }
    },
    {
      "cell_type": "markdown",
      "source": [
        "# Pytorch Inference mode. Good way to test our model as it doesnt keep track of gradiant which removes\n",
        "# overhead"
      ],
      "metadata": {
        "id": "Wdjl_Y2xQqBC"
      }
    },
    {
      "cell_type": "code",
      "source": [
        "X_test, y_test"
      ],
      "metadata": {
        "colab": {
          "base_uri": "https://localhost:8080/"
        },
        "id": "VKoeIeZnQ--5",
        "outputId": "5fc6b0c2-8adf-4365-993f-abee370649fb"
      },
      "execution_count": null,
      "outputs": [
        {
          "output_type": "execute_result",
          "data": {
            "text/plain": [
              "(tensor([[0.8000],\n",
              "         [0.8200],\n",
              "         [0.8400],\n",
              "         [0.8600],\n",
              "         [0.8800],\n",
              "         [0.9000],\n",
              "         [0.9200],\n",
              "         [0.9400],\n",
              "         [0.9600],\n",
              "         [0.9800]]),\n",
              " tensor([[0.8600],\n",
              "         [0.8740],\n",
              "         [0.8880],\n",
              "         [0.9020],\n",
              "         [0.9160],\n",
              "         [0.9300],\n",
              "         [0.9440],\n",
              "         [0.9580],\n",
              "         [0.9720],\n",
              "         [0.9860]]))"
            ]
          },
          "metadata": {},
          "execution_count": 11
        }
      ]
    },
    {
      "cell_type": "code",
      "source": [
        "# Without inference mode we get an extra gradient tracking which will add extra overhead for large sets\n",
        "y_preds = model_0(X_test)\n",
        "y_preds"
      ],
      "metadata": {
        "colab": {
          "base_uri": "https://localhost:8080/"
        },
        "id": "HJsURz1WTMo-",
        "outputId": "f759604a-61c3-4ca1-edf5-93a152c66817"
      },
      "execution_count": null,
      "outputs": [
        {
          "output_type": "execute_result",
          "data": {
            "text/plain": [
              "tensor([[0.3982],\n",
              "        [0.4049],\n",
              "        [0.4116],\n",
              "        [0.4184],\n",
              "        [0.4251],\n",
              "        [0.4318],\n",
              "        [0.4386],\n",
              "        [0.4453],\n",
              "        [0.4520],\n",
              "        [0.4588]], grad_fn=<AddBackward0>)"
            ]
          },
          "metadata": {},
          "execution_count": 12
        }
      ]
    },
    {
      "cell_type": "code",
      "source": [
        "with torch.inference_mode():\n",
        "  y_preds = model_0(X_test)\n",
        "y_preds"
      ],
      "metadata": {
        "colab": {
          "base_uri": "https://localhost:8080/"
        },
        "id": "s6SjKWYlR1LR",
        "outputId": "c28676cb-e0ce-4ac2-b745-036d0a7648c4"
      },
      "execution_count": null,
      "outputs": [
        {
          "output_type": "execute_result",
          "data": {
            "text/plain": [
              "tensor([[0.3982],\n",
              "        [0.4049],\n",
              "        [0.4116],\n",
              "        [0.4184],\n",
              "        [0.4251],\n",
              "        [0.4318],\n",
              "        [0.4386],\n",
              "        [0.4453],\n",
              "        [0.4520],\n",
              "        [0.4588]])"
            ]
          },
          "metadata": {},
          "execution_count": 13
        }
      ]
    },
    {
      "cell_type": "code",
      "source": [
        "plot_predictions(predictions = y_preds)"
      ],
      "metadata": {
        "colab": {
          "base_uri": "https://localhost:8080/",
          "height": 599
        },
        "id": "d3olVlclStNY",
        "outputId": "d09e028b-8b27-4de4-85f5-1e075d8142a7"
      },
      "execution_count": null,
      "outputs": [
        {
          "output_type": "display_data",
          "data": {
            "text/plain": [
              "<Figure size 1000x700 with 1 Axes>"
            ],
            "image/png": "[encoded data removed]"
          },
          "metadata": {}
        }
      ]
    },
    {
      "cell_type": "code",
      "source": [
        "list(model_0.parameters())"
      ],
      "metadata": {
        "colab": {
          "base_uri": "https://localhost:8080/"
        },
        "id": "EDK5_fMbYEi5",
        "outputId": "8ef3efe0-788c-4253-e816-f216c714ffe1"
      },
      "execution_count": null,
      "outputs": [
        {
          "output_type": "execute_result",
          "data": {
            "text/plain": [
              "[Parameter containing:\n",
              " tensor([0.3367], requires_grad=True),\n",
              " Parameter containing:\n",
              " tensor([0.1288], requires_grad=True)]"
            ]
          },
          "metadata": {},
          "execution_count": 15
        }
      ]
    },
    {
      "cell_type": "code",
      "source": [
        "model_0.state_dict()"
      ],
      "metadata": {
        "colab": {
          "base_uri": "https://localhost:8080/"
        },
        "id": "i8a3lJ87YMig",
        "outputId": "17bdf0d1-ec33-4fa9-a739-92cd833db036"
      },
      "execution_count": null,
      "outputs": [
        {
          "output_type": "execute_result",
          "data": {
            "text/plain": [
              "OrderedDict([('weights', tensor([0.3367])), ('bias', tensor([0.1288]))])"
            ]
          },
          "metadata": {},
          "execution_count": 16
        }
      ]
    },
    {
      "cell_type": "markdown",
      "source": [
        "## Loss Function : That measures how wrong our model predictions are wrt to ideal predictions. Lower the better\n",
        "## Optimizer: Takes into account of loss function and readjusts parameters so that minimize the loss"
      ],
      "metadata": {
        "id": "q2JyWYHaYV-f"
      }
    },
    {
      "cell_type": "code",
      "source": [
        "# Loss Function\n",
        "loss_fn = nn.L1Loss()\n",
        "\n",
        "\n",
        "# Optimizer (Stochastic Gradient Descent)\n",
        "# lr is learning rate i.e. step to achieve parameter optimization smaller rate means smaller change in parameter while larger rate means larger change in parameter\n",
        "optimizer = torch.optim.SGD(params=model_0.parameters(), lr=0.01)\n"
      ],
      "metadata": {
        "id": "olfQGlP7iSIV"
      },
      "execution_count": null,
      "outputs": []
    },
    {
      "cell_type": "markdown",
      "source": [
        "# Let's implement a training loop\n"
      ],
      "metadata": {
        "id": "J9wPqL6dwFxd"
      }
    },
    {
      "cell_type": "markdown",
      "source": [
        "# Steps in training loop are as follows\n"
      ],
      "metadata": {
        "id": "r9cfILlVwK_7"
      }
    },
    {
      "cell_type": "markdown",
      "source": [
        "# 1) Loop through training data\n",
        "# 2) In each iteration perform first the forward pass or forward propogation with the training data\n",
        "# 3) This will generate predications and compute loss function on them\n",
        "# 4) After this set optimizer to zero grad\n",
        "# 5) Now perform backward pass or backpropogation.\n",
        "# 6) Finally perform gradient descent with optimizer step()\n",
        "\n",
        "# Upto step 3 things are pretty obvious, However from 3 onwards what actually happens is that in backpass\n",
        "# gradient of model's parameters is taken and considering the loss function or with respect to\n",
        "# loss function these gradients minimized and what that yields in given step is that it will minimize\n",
        "# the loss function itself\n"
      ],
      "metadata": {
        "id": "9wgU_PNewcwK"
      }
    },
    {
      "cell_type": "code",
      "source": [
        "torch.manual_seed(42)\n",
        "\n",
        "epochs = 200\n",
        "\n",
        "epoch_count = []\n",
        "loss_values = []\n",
        "test_loss_values = []\n",
        "\n",
        "for epoch in range(epochs):\n",
        "  model_0.train()\n",
        "\n",
        "  # Perform forward pass with X data\n",
        "  y_pred = model_0.forward(X_train)\n",
        "\n",
        "  # Calculate the loss\n",
        "  loss = loss_fn(y_pred, y_train)\n",
        "  print(f\"loss:{loss}\")\n",
        "\n",
        "  # Set zero grad\n",
        "  optimizer.zero_grad()\n",
        "\n",
        "  #Perform backpass on loss\n",
        "  loss.backward()\n",
        "\n",
        "  #Perform gradient descent\n",
        "  optimizer.step()\n",
        "\n",
        "  model_0.eval()\n",
        "\n",
        "  #Testing Loop\n",
        "  with torch.inference_mode():\n",
        "    test_pred = model_0(X_test)\n",
        "    test_loss = loss_fn(test_pred, y_test)\n",
        "\n",
        "    if epoch % 10 == 0:\n",
        "\n",
        "      epoch_count.append(epoch)\n",
        "      loss_values.append(loss)\n",
        "      test_loss_values.append(test_loss)\n",
        "\n",
        "      print(model_0.state_dict())\n",
        "      print(f\"epoch:{epoch} loss:{loss} test_loss:{test_loss}\")\n"
      ],
      "metadata": {
        "id": "FKx1S7gSzx0u",
        "colab": {
          "base_uri": "https://localhost:8080/"
        },
        "outputId": "89b16ea1-6b6c-414e-9ba5-c8707ee64da5"
      },
      "execution_count": null,
      "outputs": [
        {
          "output_type": "stream",
          "name": "stdout",
          "text": [
            "loss:0.31288138031959534\n",
            "OrderedDict([('weights', tensor([0.3406])), ('bias', tensor([0.1388]))])\n",
            "epoch:0 loss:0.31288138031959534 test_loss:0.48106518387794495\n",
            "loss:0.3013603389263153\n",
            "loss:0.28983935713768005\n",
            "loss:0.2783183455467224\n",
            "loss:0.26679736375808716\n",
            "loss:0.2552763521671295\n",
            "loss:0.24375534057617188\n",
            "loss:0.23223432898521423\n",
            "loss:0.22071333229541779\n",
            "loss:0.20919232070446014\n",
            "loss:0.1976713240146637\n",
            "OrderedDict([('weights', tensor([0.3796])), ('bias', tensor([0.2388]))])\n",
            "epoch:10 loss:0.1976713240146637 test_loss:0.3463551998138428\n",
            "loss:0.18615034222602844\n",
            "loss:0.1746293306350708\n",
            "loss:0.16310831904411316\n",
            "loss:0.1515873372554779\n",
            "loss:0.14006635546684265\n",
            "loss:0.1285453587770462\n",
            "loss:0.11702437698841095\n",
            "loss:0.1060912236571312\n",
            "loss:0.09681284427642822\n",
            "loss:0.08908725529909134\n",
            "OrderedDict([('weights', tensor([0.4184])), ('bias', tensor([0.3333]))])\n",
            "epoch:20 loss:0.08908725529909134 test_loss:0.21729660034179688\n",
            "loss:0.08227583020925522\n",
            "loss:0.07638873159885406\n",
            "loss:0.07160007208585739\n",
            "loss:0.06747635453939438\n",
            "loss:0.06395438313484192\n",
            "loss:0.06097004935145378\n",
            "loss:0.05845819041132927\n",
            "loss:0.05635259300470352\n",
            "loss:0.0545857772231102\n",
            "loss:0.053148526698350906\n",
            "OrderedDict([('weights', tensor([0.4512])), ('bias', tensor([0.3768]))])\n",
            "epoch:30 loss:0.053148526698350906 test_loss:0.14464017748832703\n",
            "loss:0.05181945487856865\n",
            "loss:0.05069301277399063\n",
            "loss:0.0498228520154953\n",
            "loss:0.04895269125699997\n",
            "loss:0.04819351062178612\n",
            "loss:0.047531817108392715\n",
            "loss:0.04692792519927025\n",
            "loss:0.04642331600189209\n",
            "loss:0.04591871052980423\n",
            "loss:0.04543796554207802\n",
            "OrderedDict([('weights', tensor([0.4748])), ('bias', tensor([0.3868]))])\n",
            "epoch:40 loss:0.04543796554207802 test_loss:0.11360953003168106\n",
            "loss:0.04503796249628067\n",
            "loss:0.04463795945048332\n",
            "loss:0.04423796385526657\n",
            "loss:0.04383796453475952\n",
            "loss:0.04343796148896217\n",
            "loss:0.043074630200862885\n",
            "loss:0.04272563382983208\n",
            "loss:0.04237663000822067\n",
            "loss:0.04202762991189957\n",
            "loss:0.04167863354086876\n",
            "OrderedDict([('weights', tensor([0.4938])), ('bias', tensor([0.3843]))])\n",
            "epoch:50 loss:0.04167863354086876 test_loss:0.09919948130846024\n",
            "loss:0.04132963344454765\n",
            "loss:0.04098063334822655\n",
            "loss:0.04063162952661514\n",
            "loss:0.040282636880874634\n",
            "loss:0.039933640509843826\n",
            "loss:0.03958464413881302\n",
            "loss:0.03923564404249191\n",
            "loss:0.03888664394617081\n",
            "loss:0.0385376438498497\n",
            "loss:0.03818932920694351\n",
            "OrderedDict([('weights', tensor([0.5116])), ('bias', tensor([0.3788]))])\n",
            "epoch:60 loss:0.03818932920694351 test_loss:0.08886633068323135\n",
            "loss:0.03785243630409241\n",
            "loss:0.0375034399330616\n",
            "loss:0.037164121866226196\n",
            "loss:0.03681822493672371\n",
            "loss:0.03647511452436447\n",
            "loss:0.03613303601741791\n",
            "loss:0.03578609973192215\n",
            "loss:0.03544783592224121\n",
            "loss:0.035098835825920105\n",
            "loss:0.03476089984178543\n",
            "OrderedDict([('weights', tensor([0.5288])), ('bias', tensor([0.3718]))])\n",
            "epoch:70 loss:0.03476089984178543 test_loss:0.0805937647819519\n",
            "loss:0.03441363573074341\n",
            "loss:0.03407188132405281\n",
            "loss:0.03372843936085701\n",
            "loss:0.03338287025690079\n",
            "loss:0.033043231815099716\n",
            "loss:0.03269423171877861\n",
            "loss:0.032357655465602875\n",
            "loss:0.03200903534889221\n",
            "loss:0.03166864812374115\n",
            "loss:0.03132382780313492\n",
            "OrderedDict([('weights', tensor([0.5459])), ('bias', tensor([0.3648]))])\n",
            "epoch:80 loss:0.03132382780313492 test_loss:0.07232122868299484\n",
            "loss:0.030979642644524574\n",
            "loss:0.030638623982667923\n",
            "loss:0.0302906334400177\n",
            "loss:0.029953425750136375\n",
            "loss:0.02960442565381527\n",
            "loss:0.029265418648719788\n",
            "loss:0.028919223695993423\n",
            "loss:0.028576409444212914\n",
            "loss:0.028234025463461876\n",
            "loss:0.02788739837706089\n",
            "OrderedDict([('weights', tensor([0.5629])), ('bias', tensor([0.3573]))])\n",
            "epoch:90 loss:0.02788739837706089 test_loss:0.06473556160926819\n",
            "loss:0.02754882536828518\n",
            "loss:0.027199819684028625\n",
            "loss:0.026862185448408127\n",
            "loss:0.02651461586356163\n",
            "loss:0.026173178106546402\n",
            "loss:0.025829419493675232\n",
            "loss:0.02548416517674923\n",
            "loss:0.025144213810563087\n",
            "loss:0.02479521557688713\n",
            "loss:0.024458957836031914\n",
            "OrderedDict([('weights', tensor([0.5800])), ('bias', tensor([0.3503]))])\n",
            "epoch:100 loss:0.024458957836031914 test_loss:0.05646304413676262\n",
            "loss:0.024110013619065285\n",
            "loss:0.02376994863152504\n",
            "loss:0.02342480979859829\n",
            "loss:0.023080935701727867\n",
            "loss:0.022739607840776443\n",
            "loss:0.022391926497220993\n",
            "loss:0.022054409608244896\n",
            "loss:0.02170540764927864\n",
            "loss:0.021366719156503677\n",
            "loss:0.021020207554101944\n",
            "OrderedDict([('weights', tensor([0.5972])), ('bias', tensor([0.3433]))])\n",
            "epoch:110 loss:0.021020207554101944 test_loss:0.04819049686193466\n",
            "loss:0.020677709951996803\n",
            "loss:0.02033500373363495\n",
            "loss:0.01998869702219963\n",
            "loss:0.019649803638458252\n",
            "loss:0.019300809130072594\n",
            "loss:0.018963487818837166\n",
            "loss:0.01861560344696045\n",
            "loss:0.018274478614330292\n",
            "loss:0.017930403351783752\n",
            "loss:0.01758546568453312\n",
            "OrderedDict([('weights', tensor([0.6141])), ('bias', tensor([0.3358]))])\n",
            "epoch:120 loss:0.01758546568453312 test_loss:0.04060482233762741\n",
            "loss:0.017245199531316757\n",
            "loss:0.016896454617381096\n",
            "loss:0.01656000316143036\n",
            "loss:0.016210997477173805\n",
            "loss:0.01587124727666378\n",
            "loss:0.015525798313319683\n",
            "loss:0.015182236209511757\n",
            "loss:0.014840595424175262\n",
            "loss:0.01449323259294033\n",
            "loss:0.014155393466353416\n",
            "OrderedDict([('weights', tensor([0.6313])), ('bias', tensor([0.3288]))])\n",
            "epoch:130 loss:0.014155393466353416 test_loss:0.03233227878808975\n",
            "loss:0.013806397095322609\n",
            "loss:0.013468016870319843\n",
            "loss:0.013121193274855614\n",
            "loss:0.01277900766581297\n",
            "loss:0.012435992248356342\n",
            "loss:0.01208999752998352\n",
            "loss:0.011750795878469944\n",
            "loss:0.011401787400245667\n",
            "loss:0.011064787395298481\n",
            "loss:0.010716589167714119\n",
            "OrderedDict([('weights', tensor([0.6485])), ('bias', tensor([0.3218]))])\n",
            "epoch:140 loss:0.010716589167714119 test_loss:0.024059748277068138\n",
            "loss:0.010375778190791607\n",
            "loss:0.010031387209892273\n",
            "loss:0.009686763398349285\n",
            "loss:0.009346187114715576\n",
            "loss:0.008997755125164986\n",
            "loss:0.008660981431603432\n",
            "loss:0.008311985060572624\n",
            "loss:0.007972544990479946\n",
            "loss:0.007626785431057215\n",
            "loss:0.0072835334576666355\n",
            "OrderedDict([('weights', tensor([0.6654])), ('bias', tensor([0.3143]))])\n",
            "epoch:150 loss:0.0072835334576666355 test_loss:0.016474086791276932\n",
            "loss:0.006941580679267645\n",
            "loss:0.006594526115804911\n",
            "loss:0.006256377790123224\n",
            "loss:0.005907376762479544\n",
            "loss:0.005569315515458584\n",
            "loss:0.005222178064286709\n",
            "loss:0.004880306776612997\n",
            "loss:0.004536976106464863\n",
            "loss:0.00419129803776741\n",
            "loss:0.0038517764769494534\n",
            "OrderedDict([('weights', tensor([0.6826])), ('bias', tensor([0.3073]))])\n",
            "epoch:160 loss:0.0038517764769494534 test_loss:0.008201557211577892\n",
            "loss:0.0035027749836444855\n",
            "loss:0.0031660839449614286\n",
            "loss:0.002817571861669421\n",
            "loss:0.0024770735763013363\n",
            "loss:0.0021323717664927244\n",
            "loss:0.0017880648374557495\n",
            "loss:0.0014518328243866563\n",
            "loss:0.0011887758737429976\n",
            "loss:0.0025885067880153656\n",
            "loss:0.008932482451200485\n",
            "OrderedDict([('weights', tensor([0.6951])), ('bias', tensor([0.2993]))])\n",
            "epoch:170 loss:0.008932482451200485 test_loss:0.005023092031478882\n",
            "loss:0.0025885067880153656\n",
            "loss:0.008932482451200485\n",
            "loss:0.0025885067880153656\n",
            "loss:0.008932482451200485\n",
            "loss:0.0025885067880153656\n",
            "loss:0.008932482451200485\n",
            "loss:0.0025885067880153656\n",
            "loss:0.008932482451200485\n",
            "loss:0.0025885067880153656\n",
            "loss:0.008932482451200485\n",
            "OrderedDict([('weights', tensor([0.6951])), ('bias', tensor([0.2993]))])\n",
            "epoch:180 loss:0.008932482451200485 test_loss:0.005023092031478882\n",
            "loss:0.0025885067880153656\n",
            "loss:0.008932482451200485\n",
            "loss:0.0025885067880153656\n",
            "loss:0.008932482451200485\n",
            "loss:0.0025885067880153656\n",
            "loss:0.008932482451200485\n",
            "loss:0.0025885067880153656\n",
            "loss:0.008932482451200485\n",
            "loss:0.0025885067880153656\n",
            "loss:0.008932482451200485\n",
            "OrderedDict([('weights', tensor([0.6951])), ('bias', tensor([0.2993]))])\n",
            "epoch:190 loss:0.008932482451200485 test_loss:0.005023092031478882\n",
            "loss:0.0025885067880153656\n",
            "loss:0.008932482451200485\n",
            "loss:0.0025885067880153656\n",
            "loss:0.008932482451200485\n",
            "loss:0.0025885067880153656\n",
            "loss:0.008932482451200485\n",
            "loss:0.0025885067880153656\n",
            "loss:0.008932482451200485\n",
            "loss:0.0025885067880153656\n"
          ]
        }
      ]
    },
    {
      "cell_type": "code",
      "source": [
        "#Plotting Loss and test loss wrt epoch\n",
        "import numpy as np\n",
        "plt.plot(epoch_count, np.array(torch.tensor(loss_values).numpy()), label=\"Train loss\" )\n",
        "plt.plot(epoch_count, test_loss_values, label=\"Test loss\")\n",
        "plt.title(\"Training and Test Loss Curves\")\n",
        "plt.xlabel(\"epoch\")\n",
        "plt.ylabel(\"loss\")\n",
        "plt.legend()"
      ],
      "metadata": {
        "colab": {
          "base_uri": "https://localhost:8080/",
          "height": 489
        },
        "id": "s0YFQfz0-N48",
        "outputId": "149e20cc-a31a-480d-8bcc-90b4b7bea793"
      },
      "execution_count": null,
      "outputs": [
        {
          "output_type": "execute_result",
          "data": {
            "text/plain": [
              "<matplotlib.legend.Legend at 0x79e7a6657e20>"
            ]
          },
          "metadata": {},
          "execution_count": 19
        },
        {
          "output_type": "display_data",
          "data": {
            "text/plain": [
              "<Figure size 640x480 with 1 Axes>"
            ],
            "image/png": "[encoded data removed]"
          },
          "metadata": {}
        }
      ]
    },
    {
      "cell_type": "code",
      "source": [
        "model_0.state_dict()"
      ],
      "metadata": {
        "colab": {
          "base_uri": "https://localhost:8080/"
        },
        "id": "P_8amXDo3_We",
        "outputId": "718914c9-1715-4af1-eea7-5921e60db422"
      },
      "execution_count": null,
      "outputs": [
        {
          "output_type": "execute_result",
          "data": {
            "text/plain": [
              "OrderedDict([('weights', tensor([0.6990])), ('bias', tensor([0.3093]))])"
            ]
          },
          "metadata": {},
          "execution_count": 20
        }
      ]
    },
    {
      "cell_type": "code",
      "source": [
        "with torch.inference_mode():\n",
        "  y_preds_new = model_0(X_test)"
      ],
      "metadata": {
        "id": "ySd5sLAF9eNv"
      },
      "execution_count": null,
      "outputs": []
    },
    {
      "cell_type": "code",
      "source": [
        "plot_predictions(predictions=y_preds)"
      ],
      "metadata": {
        "colab": {
          "base_uri": "https://localhost:8080/",
          "height": 599
        },
        "id": "N77iGg0_6J8C",
        "outputId": "88eb18e2-68b3-4e17-8688-5fe566170d29"
      },
      "execution_count": null,
      "outputs": [
        {
          "output_type": "display_data",
          "data": {
            "text/plain": [
              "<Figure size 1000x700 with 1 Axes>"
            ],
            "image/png": "[encoded data removed]"
          },
          "metadata": {}
        }
      ]
    },
    {
      "cell_type": "code",
      "source": [
        "model_0.state_dict()"
      ],
      "metadata": {
        "colab": {
          "base_uri": "https://localhost:8080/"
        },
        "id": "Gur2NiyZ1kum",
        "outputId": "33d8afcb-8a59-4f0e-b3d6-4abca6856e1e"
      },
      "execution_count": null,
      "outputs": [
        {
          "output_type": "execute_result",
          "data": {
            "text/plain": [
              "OrderedDict([('weights', tensor([0.6990])), ('bias', tensor([0.3093]))])"
            ]
          },
          "metadata": {},
          "execution_count": 23
        }
      ]
    },
    {
      "cell_type": "code",
      "source": [
        "weight, bias"
      ],
      "metadata": {
        "colab": {
          "base_uri": "https://localhost:8080/"
        },
        "id": "O5_cm9lY3uzw",
        "outputId": "74e0f56b-ab98-49ba-9e47-85fbd1fb30e3"
      },
      "execution_count": null,
      "outputs": [
        {
          "output_type": "execute_result",
          "data": {
            "text/plain": [
              "(0.7, 0.3)"
            ]
          },
          "metadata": {},
          "execution_count": 24
        }
      ]
    },
    {
      "cell_type": "code",
      "source": [
        "plot_predictions(predictions=y_preds_new)"
      ],
      "metadata": {
        "colab": {
          "base_uri": "https://localhost:8080/",
          "height": 599
        },
        "id": "8UfCVpHE998n",
        "outputId": "51b17255-2c9d-4ce0-abe7-1b4165aa061f"
      },
      "execution_count": null,
      "outputs": [
        {
          "output_type": "display_data",
          "data": {
            "text/plain": [
              "<Figure size 1000x700 with 1 Axes>"
            ],
            "image/png": "[encoded data removed]"
          },
          "metadata": {}
        }
      ]
    },
    {
      "cell_type": "markdown",
      "source": [
        "# SAVING OUR MODEL USING RECOMMENDED APPROACH OF SAVING MODEL_STATE_DICT"
      ],
      "metadata": {
        "id": "JKWwkB37F3HH"
      }
    },
    {
      "cell_type": "code",
      "source": [
        "model_0.state_dict()"
      ],
      "metadata": {
        "colab": {
          "base_uri": "https://localhost:8080/"
        },
        "id": "An5RAPO1GBcn",
        "outputId": "568d622a-48a9-4bf2-9143-bbf53dd5d3b7"
      },
      "execution_count": null,
      "outputs": [
        {
          "output_type": "execute_result",
          "data": {
            "text/plain": [
              "OrderedDict([('weights', tensor([0.6990])), ('bias', tensor([0.3093]))])"
            ]
          },
          "metadata": {},
          "execution_count": 26
        }
      ]
    },
    {
      "cell_type": "code",
      "source": [
        "from pathlib import Path\n",
        "\n",
        "MODEL_PATH = Path(\"models\")\n",
        "MODEL_PATH.mkdir(parents=True, exist_ok=True)\n",
        "\n",
        "MODEL_NAME = \"01_pytorch_workflow_model_0.pth\"\n",
        "MODEL_SAVE_PATH = MODEL_PATH / MODEL_NAME\n",
        "\n",
        "torch.save(obj=model_0.state_dict(), f=MODEL_SAVE_PATH)\n"
      ],
      "metadata": {
        "id": "hAhhctRQGEZW"
      },
      "execution_count": null,
      "outputs": []
    },
    {
      "cell_type": "code",
      "source": [
        "!ls -l models"
      ],
      "metadata": {
        "colab": {
          "base_uri": "https://localhost:8080/"
        },
        "id": "dmfweJxKH__a",
        "outputId": "0a9ee8b3-00ea-4bab-9f8e-c3e96f711051"
      },
      "execution_count": null,
      "outputs": [
        {
          "output_type": "stream",
          "name": "stdout",
          "text": [
            "total 4\n",
            "-rw-r--r-- 1 root root 1680 May 25 09:40 01_pytorch_workflow_model_0.pth\n"
          ]
        }
      ]
    }
  ]
}